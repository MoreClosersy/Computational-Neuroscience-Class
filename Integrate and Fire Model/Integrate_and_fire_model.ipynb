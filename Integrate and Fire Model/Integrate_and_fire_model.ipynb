{
  "nbformat": 4,
  "nbformat_minor": 0,
  "metadata": {
    "colab": {
      "provenance": [],
      "authorship_tag": "ABX9TyP/eNaOrux6WIjVHuzkeBD/",
      "include_colab_link": true
    },
    "kernelspec": {
      "name": "python3",
      "display_name": "Python 3"
    },
    "language_info": {
      "name": "python"
    }
  },
  "cells": [
    {
      "cell_type": "markdown",
      "metadata": {
        "id": "view-in-github",
        "colab_type": "text"
      },
      "source": [
        "<a href=\"https://colab.research.google.com/github/xup5/Computational-Neuroscience-Class/blob/main/Integrate%20and%20Fire%20Model/Integrate_and_fire_model.ipynb\" target=\"_parent\"><img src=\"https://colab.research.google.com/assets/colab-badge.svg\" alt=\"Open In Colab\"/></a>"
      ]
    },
    {
      "cell_type": "markdown",
      "source": [
        "# Integrate and Fire Model\n",
        "Odelia Schwartz 2016, Modified by Xu Pan 2023."
      ],
      "metadata": {
        "id": "Y-6ZYcu52fvQ"
      }
    },
    {
      "cell_type": "markdown",
      "source": [
        "Simple version of Integrate and Fire model. \n",
        "\n",
        "dV/dt = - V/RC + I/C\n",
        "\n",
        "Voltage is determined here by directly solving the differential equation."
      ],
      "metadata": {
        "id": "8hcOTYJf2165"
      }
    },
    {
      "cell_type": "code",
      "execution_count": null,
      "metadata": {
        "id": "QmAv4ITU1sal"
      },
      "outputs": [],
      "source": [
        "import numpy as np\n",
        "import matplotlib.pyplot as plt\n",
        "\n",
        "deltaT = 1 \t\t\t\t# 1 msec time steps\n",
        "tend = 100\n",
        "\n",
        "# Define the range of times for the simulation.\n",
        "times = np.arange(100) \t\t\t# 100 msec simulation\n",
        "\n",
        "# Starting value of the membrane potential\n",
        "Vstart = 0"
      ]
    },
    {
      "cell_type": "markdown",
      "source": [
        "Loop through time, updating the membrane potential and adding\n",
        "spikes whenever the membrane potential crosses the spike\n",
        "threshold."
      ],
      "metadata": {
        "id": "G7vu869h3p5c"
      }
    },
    {
      "cell_type": "code",
      "source": [
        "I = 10   # current\n",
        "R = 50   # resistance\n",
        "C = 6    # capacitance\n",
        "k = R*C  # time constant\n",
        "Vthresh = 25 # threshold for spiking\n",
        "t = 0\n",
        "\n",
        "# Initialize membrane potential at rest, no spikes\n",
        "spikes = np.zeros(times.shape)\n",
        "V = np.zeros(times.shape)\n",
        "\n",
        "V[0] = Vstart # initialize membrane potential\n",
        "\n",
        "for i in times:\n",
        "\n",
        "  # update membrane potential\n",
        "  V[i] = Vstart*np.exp(-times[t]/k) + R * I * (1 - np.exp(-times[t]/k))\n",
        "  t = t+1\n",
        "\n",
        "  # If above spike threshold, generate a spike and reset the\n",
        "  # membrane potential to Vleak\n",
        "  if V[i] > Vthresh:\n",
        "    spikes[i] = 1\n",
        "    V[i] = Vstart\n",
        "    t=0"
      ],
      "metadata": {
        "id": "nfgCxDAF2--U"
      },
      "execution_count": null,
      "outputs": []
    },
    {
      "cell_type": "code",
      "source": [
        "# Plot membrane potential and spike train\n",
        "fig, axs = plt.subplots(2, constrained_layout=True, figsize=(6, 6))\n",
        "axs[0].plot(times,V)\n",
        "axs[0].set_title('Stimulus', fontsize=16)\n",
        "axs[0].set_ylabel('Membrane potential (mV)')\n",
        "axs[1].stem(times, spikes)\n",
        "axs[1].set_xlabel('Time (msec)')\n",
        "axs[1].set_ylabel('Neural response')\n"
      ],
      "metadata": {
        "id": "17KP_mCp5EhC"
      },
      "execution_count": null,
      "outputs": []
    },
    {
      "cell_type": "markdown",
      "source": [
        "# To do\n",
        "Try changing the parameters and re-running:\n",
        "\n",
        "*   Increase I\n",
        "*   Set I to 0 and Vstart to 20\n",
        "*   Decrease R\n",
        "*   Change C"
      ],
      "metadata": {
        "id": "FzQqcSEF7__M"
      }
    },
    {
      "cell_type": "code",
      "source": [],
      "metadata": {
        "id": "usCDj1b-8Nsa"
      },
      "execution_count": null,
      "outputs": []
    }
  ]
}