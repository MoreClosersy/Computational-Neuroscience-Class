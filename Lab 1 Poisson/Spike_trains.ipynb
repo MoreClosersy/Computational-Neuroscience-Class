{
  "nbformat": 4,
  "nbformat_minor": 0,
  "metadata": {
    "colab": {
      "name": "Spike_trains.ipynb",
      "provenance": [],
      "collapsed_sections": [],
      "authorship_tag": "ABX9TyNoKTQfIkeuRSAimVK6Kwnm",
      "include_colab_link": true
    },
    "kernelspec": {
      "name": "python3",
      "display_name": "Python 3"
    },
    "language_info": {
      "name": "python"
    }
  },
  "cells": [
    {
      "cell_type": "markdown",
      "metadata": {
        "id": "view-in-github",
        "colab_type": "text"
      },
      "source": [
        "<a href=\"https://colab.research.google.com/github/xup5/Computational-Neuroscience-Class/blob/main/Lab%201%20Poisson/Spike_trains.ipynb\" target=\"_parent\"><img src=\"https://colab.research.google.com/assets/colab-badge.svg\" alt=\"Open In Colab\"/></a>"
      ]
    },
    {
      "cell_type": "markdown",
      "source": [
        "This is a tutorial for generating Poisson spike trains.\n",
        "Original tutorial: David Heeger (for Cold Spring Harbor Lab summer school).\n",
        "Modified by: Odelia Schwartz and Xu Pan."
      ],
      "metadata": {
        "id": "uDpkFctUGBdN"
      }
    },
    {
      "cell_type": "markdown",
      "source": [
        "# Generating Samples of a Poisson Process.\n",
        "\n",
        "Spike trains in neurons are often modeled as a Poisson random \n",
        "process.\n",
        "\n",
        "One of the easiest ways to generate a Poisson spike\n",
        "train is to rely on the approximation that in any small\n",
        "time interval the probability of a spike is proportional\n",
        "to the mean spike count (firing rate) times the time step:\n",
        "\n",
        "   Prob{spike during (t,t+deltaT)} = r(t) * deltaT\n",
        "\n",
        "where r(t) is the firing rate and deltaT is \n",
        "the time step.  This approximation is only valid when deltaT is\n",
        "very short so that there is essentially no chance of there\n",
        "being more than one spike per time interval."
      ],
      "metadata": {
        "id": "PtPyy24RGdta"
      }
    },
    {
      "cell_type": "markdown",
      "source": [
        "## Part 1\n"
      ],
      "metadata": {
        "id": "YA8eVV2qHHf9"
      }
    },
    {
      "cell_type": "code",
      "execution_count": 1,
      "metadata": {
        "id": "mat8HYWTFt0O"
      },
      "outputs": [],
      "source": [
        "# Let's begin by choosing a time step and by choosing an average\n",
        "# firing rate.\n",
        "# After running this, try and also choose different firing rates.\n",
        "\n",
        "deltaT = 1e-3 \t\t\t# Time step: 1e-3 secs = 1 msec\n",
        "rate = 10\t\t\t    \t# Firing rate: spikes/sec\n",
        "duration = 1\t\t\t  # 1 sec simulation"
      ]
    },
    {
      "cell_type": "code",
      "source": [
        "# Choose the time intervals\n",
        "\n",
        "import numpy as np\n",
        "\n",
        "times = np.arange(0, duration, deltaT)\n",
        "times.shape"
      ],
      "metadata": {
        "colab": {
          "base_uri": "https://localhost:8080/"
        },
        "id": "Hxh5B4r3J8Ml",
        "outputId": "cef52d9a-3669-421b-c2ac-f65e9e6c80a8"
      },
      "execution_count": 5,
      "outputs": [
        {
          "output_type": "execute_result",
          "data": {
            "text/plain": [
              "(1000,)"
            ]
          },
          "metadata": {},
          "execution_count": 5
        }
      ]
    },
    {
      "cell_type": "code",
      "source": [
        "# We can generate one random number between 0 and 1 (uniform distribution)\n",
        "# Try this many times\n",
        "\n",
        "xr_one = np.random.rand()\n",
        "print(xr_one)"
      ],
      "metadata": {
        "colab": {
          "base_uri": "https://localhost:8080/"
        },
        "id": "21bcsS1XKbn3",
        "outputId": "9e4e9f73-6cdf-4709-db7a-7414ae9d3b42"
      },
      "execution_count": 18,
      "outputs": [
        {
          "output_type": "stream",
          "name": "stdout",
          "text": [
            "0.42514459537113736\n"
          ]
        }
      ]
    },
    {
      "cell_type": "code",
      "source": [
        "# Let's check if the mean firing rate times the time interval \n",
        "# is greater than the random number\n",
        "# Again, we can repeat choosing a random number and checking\n",
        "# many times\n",
        "\n",
        "intervalRate = rate * deltaT\n",
        "print(intervalRate)\n",
        "print(xr_one)\n",
        "intervalRate > xr_one "
      ],
      "metadata": {
        "colab": {
          "base_uri": "https://localhost:8080/"
        },
        "id": "Ay0doHZWMc5k",
        "outputId": "658cdccd-8a88-4ea5-84d8-06f618030e42"
      },
      "execution_count": 19,
      "outputs": [
        {
          "output_type": "stream",
          "name": "stdout",
          "text": [
            "0.01\n",
            "0.42514459537113736\n"
          ]
        },
        {
          "output_type": "execute_result",
          "data": {
            "text/plain": [
              "False"
            ]
          },
          "metadata": {},
          "execution_count": 19
        }
      ]
    },
    {
      "cell_type": "code",
      "source": [
        "# We want to do this process not just for one interval,\n",
        "# but for all the time intervals over the duration\n",
        "# We'll choose a bunch of random numbers, one for each time step,\n",
        "# uniformly distributed between 0 and 1.\n",
        "\n",
        "xr = np.random.rand(*times.shape)"
      ],
      "metadata": {
        "id": "RFxH6HxKMynO"
      },
      "execution_count": 27,
      "outputs": []
    },
    {
      "cell_type": "code",
      "source": [
        "# Check that values are reasonably random by plotting a histogram\n",
        "\n",
        "import matplotlib.pyplot as plt\n",
        "\n",
        "plt.hist(xr, bins=20);\n",
        "plt.xlabel('random draws', fontsize=16)\n",
        "plt.ylabel('Probability', fontsize=16)"
      ],
      "metadata": {
        "colab": {
          "base_uri": "https://localhost:8080/",
          "height": 301
        },
        "id": "Qg8TW609Nva2",
        "outputId": "76dd30fa-20de-43c0-99dd-41f3e79a2156"
      },
      "execution_count": 33,
      "outputs": [
        {
          "output_type": "execute_result",
          "data": {
            "text/plain": [
              "Text(0, 0.5, 'Probability')"
            ]
          },
          "metadata": {},
          "execution_count": 33
        },
        {
          "output_type": "display_data",
          "data": {
            "image/png": "[encoded data removed]",
            "text/plain": [
              "<Figure size 432x288 with 1 Axes>"
            ]
          },
          "metadata": {
            "needs_background": "light"
          }
        }
      ]
    },
    {
      "cell_type": "code",
      "source": [
        "# Now, insert a spike whenever the probability of firing\n",
        "# (rate*deltaT) is greater than the corresponding random number:\n",
        "# Python (numpy) allows you to do this operation in one line, without a \n",
        "# for loop. \n",
        "\n",
        "neuralResponse = intervalRate > xr\n",
        "\n",
        "# We'll plot the neural responses (spikes) using the plt.stem()\n",
        "# which is a lollipop plot...\n",
        "plt.stem(times, neuralResponse, basefmt=\" \");    \n",
        "plt.xlabel('Time', fontsize=16)\n",
        "plt.ylabel('Neural Response (Spikes)', fontsize=16)"
      ],
      "metadata": {
        "colab": {
          "base_uri": "https://localhost:8080/",
          "height": 356
        },
        "id": "cu_L-SeXPtuo",
        "outputId": "bb1f78cb-2fd3-4df0-a4cb-fc04a1d3e44c"
      },
      "execution_count": 36,
      "outputs": [
        {
          "output_type": "stream",
          "name": "stderr",
          "text": [
            "/usr/local/lib/python3.7/dist-packages/ipykernel_launcher.py:10: UserWarning: In Matplotlib 3.3 individual lines on a stem plot will be added as a LineCollection instead of individual lines. This significantly improves the performance of a stem plot. To remove this warning and switch to the new behaviour, set the \"use_line_collection\" keyword argument to True.\n",
            "  # Remove the CWD from sys.path while we load stuff.\n"
          ]
        },
        {
          "output_type": "execute_result",
          "data": {
            "text/plain": [
              "Text(0, 0.5, 'Neural Response (Spikes)')"
            ]
          },
          "metadata": {},
          "execution_count": 36
        },
        {
          "output_type": "display_data",
          "data": {
            "image/png": "[encoded data removed]",
            "text/plain": [
              "<Figure size 432x288 with 1 Axes>"
            ]
          },
          "metadata": {
            "needs_background": "light"
          }
        }
      ]
    },
    {
      "cell_type": "code",
      "source": [
        "# To get a better understanding of what this does, we\n",
        "# can look at the values for a vector of length 5\n",
        "# Try changing the vector to get more spikes\n",
        "\n",
        "tmpxr = np.array([.001, .1, .2, .5, .06])\n",
        "print(intervalRate)\n",
        "tmpResponse = intervalRate > tmpxr\n",
        "print(tmpResponse)"
      ],
      "metadata": {
        "colab": {
          "base_uri": "https://localhost:8080/"
        },
        "id": "x9PJLEoUP4CE",
        "outputId": "91b754c2-9593-468f-e2d4-3d12c07d4a53"
      },
      "execution_count": 38,
      "outputs": [
        {
          "output_type": "stream",
          "name": "stdout",
          "text": [
            "0.01\n",
            "[ True False False False False]\n"
          ]
        }
      ]
    },
    {
      "cell_type": "code",
      "source": [
        "# Calculate the spike count, which are the number of spikes during the time duration\n",
        "\n",
        "spikeCount = np.sum(neuralResponse)\n",
        "print(spikeCount)"
      ],
      "metadata": {
        "colab": {
          "base_uri": "https://localhost:8080/"
        },
        "id": "OHSZFzPdXG38",
        "outputId": "2c85267a-8bb1-49d9-c738-905e5d6886e1"
      },
      "execution_count": 40,
      "outputs": [
        {
          "output_type": "stream",
          "name": "stdout",
          "text": [
            "10\n"
          ]
        }
      ]
    },
    {
      "cell_type": "markdown",
      "source": [
        "## Part 2"
      ],
      "metadata": {
        "id": "6Mf4eJdonNR6"
      }
    },
    {
      "cell_type": "code",
      "source": [
        "#@title Default title text\n",
        "# TODO: Repeat 5000 times: generating random numbers xr, computing neuralResponse and calculating\n",
        "# spikeCount. Save the resulting number of spikes into spikeCounts each of the 5000 times.\n",
        "\n",
        "len = 5000\n",
        "spikeCounts = np.zeros(len)\n",
        "print(spikeCounts.shape)\n",
        "\n",
        "for repeat in range(5000):\n",
        "  # Your code here:\n",
        "  xr = np.random.rand(*times.shape)\n",
        "  neuralResponse = intervalRate > xr\n",
        "  spikeCounts[repeat] = np.sum(neuralResponse)"
      ],
      "metadata": {
        "colab": {
          "base_uri": "https://localhost:8080/"
        },
        "cellView": "code",
        "id": "lgsdtr0znMws",
        "outputId": "b72388f6-8873-482d-d974-33619e0eb847"
      },
      "execution_count": 44,
      "outputs": [
        {
          "output_type": "stream",
          "name": "stdout",
          "text": [
            "(5000,)\n"
          ]
        }
      ]
    },
    {
      "cell_type": "code",
      "source": [
        "# What is the mean of the spikeCounts? How does it\n",
        "# compare to the firing rate?\n",
        "\n",
        "print(np.mean(spikeCounts))\n",
        "print(rate)"
      ],
      "metadata": {
        "colab": {
          "base_uri": "https://localhost:8080/"
        },
        "id": "JA18XtBpnv-i",
        "outputId": "96223e58-aaa1-4f2f-8eaa-720a444215f6"
      },
      "execution_count": 45,
      "outputs": [
        {
          "output_type": "stream",
          "name": "stdout",
          "text": [
            "9.9634\n",
            "10\n"
          ]
        }
      ]
    },
    {
      "cell_type": "code",
      "source": [
        "# Plot a spike count histogram\n",
        "\n",
        "x=np.arange(0, 30);\n",
        "plt.hist(spikeCounts, bins=x, align='left')\n",
        "plt.xlabel('Spike count')\n",
        "plt.ylabel('Probability')"
      ],
      "metadata": {
        "colab": {
          "base_uri": "https://localhost:8080/",
          "height": 296
        },
        "id": "jxd5u8v3n6Fl",
        "outputId": "07c82228-bf2d-4043-d905-0a51b5cc4ebd"
      },
      "execution_count": 68,
      "outputs": [
        {
          "output_type": "execute_result",
          "data": {
            "text/plain": [
              "Text(0, 0.5, 'Probability')"
            ]
          },
          "metadata": {},
          "execution_count": 68
        },
        {
          "output_type": "display_data",
          "data": {
            "image/png": "[encoded data removed]",
            "text/plain": [
              "<Figure size 432x288 with 1 Axes>"
            ]
          },
          "metadata": {
            "needs_background": "light"
          }
        }
      ]
    },
    {
      "cell_type": "code",
      "source": [
        "#@title Default title text\n",
        "# Plot a normalized histogram (that sums to 1)\n",
        "# for comparison with the Poisson\n",
        "\n",
        "from scipy.stats import poisson\n",
        "\n",
        "plt.hist(spikeCounts, bins=x, density=True, align='left')\n",
        "plt.xlabel('Spike count')\n",
        "plt.ylabel('Probability')\n",
        "y = poisson.pmf(x, mu=np.mean(spikeCounts))\n",
        "plt.plot(x,y)"
      ],
      "metadata": {
        "colab": {
          "base_uri": "https://localhost:8080/",
          "height": 296
        },
        "cellView": "code",
        "id": "nPK4yRrLpmww",
        "outputId": "f003187c-a418-4dc5-c16b-b533e80ec06c"
      },
      "execution_count": 66,
      "outputs": [
        {
          "output_type": "execute_result",
          "data": {
            "text/plain": [
              "[<matplotlib.lines.Line2D at 0x7f84586f9810>]"
            ]
          },
          "metadata": {},
          "execution_count": 66
        },
        {
          "output_type": "display_data",
          "data": {
            "image/png": "[encoded data removed]",
            "text/plain": [
              "<Figure size 432x288 with 1 Axes>"
            ]
          },
          "metadata": {
            "needs_background": "light"
          }
        }
      ]
    },
    {
      "cell_type": "code",
      "source": [
        "#   Here are some things for you to do in class for the code above:\n",
        "\n",
        "# - Try repeating the above code by choosing a lower firing rate \n",
        "#   (3) or a higher rate (15) by changing the variable rate at the top.\n",
        "#   Plot the resulting distributions. How does the mean change?\n",
        "#   Also plot examples of the spike trains in the repeated runs.\n",
        "\n",
        "# - Try changing the number of repeats from 1000, to 50, 10, and 10000. \n",
        "#   Plot the resulting distributions. How good is the fit to Poisson?"
      ],
      "metadata": {
        "id": "3JFGG16_rkQC"
      },
      "execution_count": 67,
      "outputs": []
    }
  ]
}