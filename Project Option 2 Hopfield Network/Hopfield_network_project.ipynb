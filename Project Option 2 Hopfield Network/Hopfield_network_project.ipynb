{
  "nbformat": 4,
  "nbformat_minor": 0,
  "metadata": {
    "colab": {
      "name": "Hopfield_network_project.ipynb",
      "provenance": [],
      "collapsed_sections": [],
      "toc_visible": true,
      "authorship_tag": "ABX9TyMfaZQzVZ3T22BHZtZ9jQZQ",
      "include_colab_link": true
    },
    "kernelspec": {
      "name": "python3",
      "display_name": "Python 3"
    },
    "language_info": {
      "name": "python"
    }
  },
  "cells": [
    {
      "cell_type": "markdown",
      "metadata": {
        "id": "view-in-github",
        "colab_type": "text"
      },
      "source": [
        "<a href=\"https://colab.research.google.com/github/xup5/Computational-Neuroscience-Class/blob/main/Project%20Option%202%20Hopfield%20Network/Hopfield_network_project.ipynb\" target=\"_parent\"><img src=\"https://colab.research.google.com/assets/colab-badge.svg\" alt=\"Open In Colab\"/></a>"
      ]
    },
    {
      "cell_type": "markdown",
      "source": [
        "# Hopfield network\n",
        "\n",
        "This jupyter notebook is a structured template for the final project. By Xu Pan and Odelia Schwartz, 2022.\n",
        "\n",
        "The project has 6 sections. In section 1, you need to implement a Hopfield network by filling in the missing code in the Hopfield_nn class (function one_shot_learn and run_step). The following sections are about testing your implementation and exploring some properties of the Hopfield network. The last section is extra, you are free to explore any other questions related to Hopfield network (for example what is a [modern Hopfield network](https://en.wikipedia.org/wiki/Modern_Hopfield_network)) and write a short summary (one paragraph) about what you find.\n",
        "\n",
        "We recommend using -1 / 1 neural state, one-shot learning rule (Hebbian), and asynchronous updating, but you are free to explore other options (alternatives are 0 / 1 neural state, iterative learning rule (Storkey), and synchronous updating).\n",
        "\n",
        "---\n",
        "\n",
        "**Hebbian learning rule:**\n",
        "\n",
        "$w_{ij}=1/N*\\sum_{u}{p^{u}_{i}p^{u}_{j}}$\n",
        "\n",
        "or $W=1/N\\sum_{u}{\\textbf{p}^{i}\\textbf{p}^{iT}}$ (and enforce diagnal to be 0)\n",
        "\n",
        "where N is the number of neurons, $p^{u}_{i}$ is the ith neuron's state in uth pattern.\n",
        "\n",
        "\n",
        "---\n",
        "\n",
        "\n",
        "**Update rule:**\n",
        "\n",
        "$s_{i}(t+1)=sign(\\sum_{j}{w_{ij}s_j(t)})$\n",
        "\n",
        "where $s_i$ is the ith neuron's state. \"sign\" is the sign function.\n",
        "\n",
        "---\n",
        "\n",
        "In the final report, you need to answer the questions, show your code and figures you generated in this project.\n",
        "\n",
        "Useful references:\n",
        "\n",
        "[Slides on course website](https://www.cs.miami.edu/home/odelia/teaching/compneuro2021/syllabus/index.html)\n",
        "\n",
        "[Scholarpedia](http://www.scholarpedia.org/article/Hopfield_network)\n",
        "\n",
        "[Wikipedia](https://en.wikipedia.org/wiki/Hopfield_network)\n"
      ],
      "metadata": {
        "id": "Da0juSjrqRiJ"
      }
    },
    {
      "cell_type": "markdown",
      "source": [
        "## 1. Make a Hopfield network class\n",
        "\n",
        "Fill in the \"TO DO\" in ***one_shot_learn*** and ***run_step*** using the Hebbian learning rule and update rule provided above\n",
        "\n",
        "You need some knowledge about object oriented code and how to use class for this project.\n",
        "\n",
        "http://docs.python.org/tutorial/classes.html"
      ],
      "metadata": {
        "id": "5RR8wf1mPqmh"
      }
    },
    {
      "cell_type": "code",
      "source": [
        "import numpy as np\n",
        "import matplotlib.pyplot as plt"
      ],
      "metadata": {
        "id": "fz_OYni8RHNU"
      },
      "execution_count": null,
      "outputs": []
    },
    {
      "cell_type": "code",
      "execution_count": null,
      "metadata": {
        "id": "UIdLcBwYOm27"
      },
      "outputs": [],
      "source": [
        "class Hopfield_nn:\n",
        "\n",
        "  def __init__(self, size):\n",
        "    self.size = size # neuron number\n",
        "    self.current_state = np.zeros(size)-1 # current state\n",
        "    self.order = np.random.permutation(size) # the order to update neural states (asynchronous)\n",
        "\n",
        "  def get_current_state(self):\n",
        "    return self.current_state\n",
        "\n",
        "  def one_shot_learn(self, patterns):\n",
        "    # patterns is a list of np arrays.\n",
        "    self.w = np.zeros(shape=(self.size, self.size)) # weight matrix.\n",
        "    # TO DO: fill in the weight matrix self.w.\n",
        "    # Hint: You can use a 3-level nested loop (pattern, neuron, neuron),\n",
        "    # or if you know linear algebra you can use one loop (pattern) with outter product.\n",
        "    # Hint: Either way, make sure your weight matrix should be symmetric and \n",
        "    # diagnal should be 0s (no recurrent connection).\n",
        "\n",
        "    return # don't need to return anything.\n",
        "\n",
        "  def set_state(self, pattern):\n",
        "    self.current_state = pattern\n",
        "\n",
        "  def run_step(self):\n",
        "    # TO DO: use the order defined in self.order to update neural state in self.current_state.\n",
        "    # A \"step\" means all neurons get updated once.\n",
        "    # Hint: You can use nested loop (pattern, neuron), or if you know linear\n",
        "    # algebra you can save one loop.\n",
        "\n",
        "    return # don't need to return anything.\n",
        "\n",
        "  def run_till_converge(self, max_it=2000):\n",
        "    previous_state = np.copy(self.current_state)\n",
        "    for i in range(max_it):\n",
        "      # print(i)\n",
        "      self.run_step()\n",
        "      if np.array_equal(previous_state, self.current_state):\n",
        "        return\n",
        "      previous_state = np.copy(self.current_state)\n",
        "    print(\"Warning! Reach max iteration.\")\n",
        "\n",
        "  # def energy(self):\n",
        "  #   return -self.current_state[None,:] @ self.w @ self.current_state[:,None]"
      ]
    },
    {
      "cell_type": "code",
      "source": [
        "# Two helper functions I worte for you to generate random pattern(s):\n",
        "\n",
        "def random_pattern(size):\n",
        "  return (np.random.randint(2, size=size)-0.5)*2\n",
        "\n",
        "def n_random_patterns(n, size):\n",
        "  return [(np.random.randint(2, size=size)-0.5)*2 for i in range(n)]"
      ],
      "metadata": {
        "id": "2xkxsBxxi3Rx"
      },
      "execution_count": null,
      "outputs": []
    },
    {
      "cell_type": "markdown",
      "source": [
        "## 2. Test your network with a single pattern.\n",
        "\n",
        "Let's generate a random pattern and store it in your network. Your network should be able to restore the pattern when several units are \"wrong\" (i.e. flipped)."
      ],
      "metadata": {
        "id": "YormfW3td8nT"
      }
    },
    {
      "cell_type": "code",
      "source": [
        "# network size (neuron number)\n",
        "size = 25\n",
        "\n",
        "# Instantiate a Hopfield_nn object\n",
        "hn = Hopfield_nn(size=size)\n",
        "\n",
        "# Get a random pattern\n",
        "pattern = random_pattern(size)\n",
        "\n",
        "# Visualize the pattern. We transform this 25-length vector to a 5x5 matrix just for better visual.\n",
        "plt.imshow(np.reshape(pattern,(5,5)), cmap='gray')\n"
      ],
      "metadata": {
        "colab": {
          "base_uri": "https://localhost:8080/",
          "height": 282
        },
        "id": "C4xLDAq-XsxR",
        "outputId": "556152e3-29f3-452d-8fe6-90db4509a68a"
      },
      "execution_count": null,
      "outputs": [
        {
          "output_type": "execute_result",
          "data": {
            "text/plain": [
              "<matplotlib.image.AxesImage at 0x7f8525837090>"
            ]
          },
          "metadata": {},
          "execution_count": 4
        },
        {
          "output_type": "display_data",
          "data": {
            "text/plain": [
              "<Figure size 432x288 with 1 Axes>"
            ],
            "image/png": "[encoded data removed]"
          },
          "metadata": {
            "needs_background": "light"
          }
        }
      ]
    },
    {
      "cell_type": "code",
      "source": [
        "# Now learn this pattern\n",
        "hn.one_shot_learn([pattern]) # make pattern a list because one_shot_learn requirs a list input."
      ],
      "metadata": {
        "id": "F5EbsGOSaaNn"
      },
      "execution_count": null,
      "outputs": []
    },
    {
      "cell_type": "code",
      "source": [
        "# Now the network is able to restore the learned pattern when a noisy pattern is given.\n",
        "# Let's set the state of the nn to be the pattern but with one unit flipped.\n",
        "# Note that neural state is either -1 or 1. To flip a state, we simply add a \"-\".\n",
        "\n",
        "# Create a noisy pattern.\n",
        "index_to_flip = np.random.permutation(size)[0]\n",
        "noisy_pattern = np.copy(pattern)\n",
        "noisy_pattern[index_to_flip] = -noisy_pattern[index_to_flip]\n",
        "\n",
        "# Set the sate of the network to be the noisy pattern.\n",
        "hn.set_state(noisy_pattern)\n",
        "\n",
        "# Visualize current state to verify it is the noisy pattern.\n",
        "current_state = hn.get_current_state()\n",
        "plt.imshow(np.reshape(current_state,(5,5)), cmap='gray')"
      ],
      "metadata": {
        "colab": {
          "base_uri": "https://localhost:8080/",
          "height": 282
        },
        "id": "LNhNtpHFbObv",
        "outputId": "1a4de648-4a93-49e5-9c50-53c30cbed35d"
      },
      "execution_count": null,
      "outputs": [
        {
          "output_type": "execute_result",
          "data": {
            "text/plain": [
              "<matplotlib.image.AxesImage at 0x7f8525399650>"
            ]
          },
          "metadata": {},
          "execution_count": 6
        },
        {
          "output_type": "display_data",
          "data": {
            "text/plain": [
              "<Figure size 432x288 with 1 Axes>"
            ],
            "image/png": "[encoded data removed]"
          },
          "metadata": {
            "needs_background": "light"
          }
        }
      ]
    },
    {
      "cell_type": "code",
      "source": [
        "# Because the network learned the pattern, it should restore the original pattern after updating.\n",
        "hn.run_till_converge()\n",
        "current_state = hn.get_current_state()\n",
        "plt.imshow(np.reshape(current_state,(5,5)), cmap='gray')"
      ],
      "metadata": {
        "colab": {
          "base_uri": "https://localhost:8080/",
          "height": 282
        },
        "id": "fU8SCfqhdi4C",
        "outputId": "2a6a092a-7923-4a57-ef0e-b373aaf57a49"
      },
      "execution_count": null,
      "outputs": [
        {
          "output_type": "execute_result",
          "data": {
            "text/plain": [
              "<matplotlib.image.AxesImage at 0x7f85253009d0>"
            ]
          },
          "metadata": {},
          "execution_count": 7
        },
        {
          "output_type": "display_data",
          "data": {
            "text/plain": [
              "<Figure size 432x288 with 1 Axes>"
            ],
            "image/png": "[encoded data removed]"
          },
          "metadata": {
            "needs_background": "light"
          }
        }
      ]
    },
    {
      "cell_type": "markdown",
      "source": [
        "So far, you should see three figures. The first one is the orignal pattern; the second one is a noisy pattern that has one unit flipped; the third one is the restored pattern which should be the same as the first one. \n",
        "\n",
        "Now try how many unit you can flip and still restore the pattern."
      ],
      "metadata": {
        "id": "AdgQIGUfocze"
      }
    },
    {
      "cell_type": "code",
      "source": [
        "num_flips = 3 # TO DO: change this number, find the max that nn can still restore the pattern.\n",
        "\n",
        "index_to_flip = np.random.permutation(size)[0:num_flips]\n",
        "noisy_pattern = np.copy(pattern)\n",
        "noisy_pattern[index_to_flip] = -noisy_pattern[index_to_flip]\n",
        "hn.set_state(noisy_pattern)\n",
        "hn.run_till_converge()\n",
        "current_state = hn.get_current_state()\n",
        "plt.imshow(np.reshape(current_state,(5,5)), cmap='gray')"
      ],
      "metadata": {
        "colab": {
          "base_uri": "https://localhost:8080/",
          "height": 282
        },
        "id": "cQTdsXLPjY3g",
        "outputId": "dc025942-7190-4b04-f200-0bd287a750ee"
      },
      "execution_count": null,
      "outputs": [
        {
          "output_type": "execute_result",
          "data": {
            "text/plain": [
              "<matplotlib.image.AxesImage at 0x7f8525270990>"
            ]
          },
          "metadata": {},
          "execution_count": 8
        },
        {
          "output_type": "display_data",
          "data": {
            "text/plain": [
              "<Figure size 432x288 with 1 Axes>"
            ],
            "image/png": "[encoded data removed]"
          },
          "metadata": {
            "needs_background": "light"
          }
        }
      ]
    },
    {
      "cell_type": "markdown",
      "source": [
        "**Question:** Can you find another attractor other than the stored pattern? What is its relationship to the stored pattern? Why? (Hint: check weight matrix formula) "
      ],
      "metadata": {
        "id": "Kpo2lVdNTMkB"
      }
    },
    {
      "cell_type": "markdown",
      "source": [
        "## 3. Interference between patterns\n",
        "\n",
        "Hopfield network is able to learn multiple patterns. However, when the stored pattern number increases, the abilility of restoration decreases. Let's try to put 2 patterns in the network."
      ],
      "metadata": {
        "id": "Mx8tmwuWvmlg"
      }
    },
    {
      "cell_type": "code",
      "source": [
        "# Get 2 random patterns\n",
        "patterns = n_random_patterns(2, size)\n",
        "\n",
        "# Visualize the pattern. We transform this 25-length vector to a 5x5 matrix just for better visual.\n",
        "plt.imshow(np.reshape(patterns[0],(5,5)), cmap='gray')\n",
        "plt.show()\n",
        "plt.imshow(np.reshape(patterns[1],(5,5)), cmap='gray')\n",
        "plt.show()"
      ],
      "metadata": {
        "colab": {
          "base_uri": "https://localhost:8080/",
          "height": 513
        },
        "id": "EGsPTCKHpWc4",
        "outputId": "c06621f5-335c-4811-d5fe-41ad4694e73e"
      },
      "execution_count": null,
      "outputs": [
        {
          "output_type": "display_data",
          "data": {
            "text/plain": [
              "<Figure size 432x288 with 1 Axes>"
            ],
            "image/png": "[encoded data removed]"
          },
          "metadata": {
            "needs_background": "light"
          }
        },
        {
          "output_type": "display_data",
          "data": {
            "text/plain": [
              "<Figure size 432x288 with 1 Axes>"
            ],
            "image/png": "[encoded data removed]"
          },
          "metadata": {
            "needs_background": "light"
          }
        }
      ]
    },
    {
      "cell_type": "code",
      "source": [
        "# Now learn these 2 patterns\n",
        "hn.one_shot_learn(patterns)"
      ],
      "metadata": {
        "id": "p6SecqaqsGJm"
      },
      "execution_count": null,
      "outputs": []
    },
    {
      "cell_type": "code",
      "source": [
        "# The network should converge to the nearest pattern.\n",
        "# Let's start with a small deviation from pattern 0.\n",
        "# It should converge to pattern 0.\n",
        "\n",
        "num_flips = 3\n",
        "\n",
        "index_to_flip = np.random.permutation(size)[0:num_flips]\n",
        "noisy_pattern = np.copy(patterns[0])\n",
        "noisy_pattern[index_to_flip] = -noisy_pattern[index_to_flip]\n",
        "hn.set_state(noisy_pattern)\n",
        "\n",
        "current_state = hn.get_current_state()\n",
        "plt.imshow(np.reshape(current_state,(5,5)), cmap='gray')\n",
        "plt.show()\n",
        "hn.run_till_converge()\n",
        "current_state = hn.get_current_state()\n",
        "plt.imshow(np.reshape(current_state,(5,5)), cmap='gray')\n",
        "plt.show()"
      ],
      "metadata": {
        "colab": {
          "base_uri": "https://localhost:8080/",
          "height": 513
        },
        "id": "rx-BWMvk2Ixd",
        "outputId": "14b3110d-553b-4359-977e-70e1b8a21ba3"
      },
      "execution_count": null,
      "outputs": [
        {
          "output_type": "display_data",
          "data": {
            "text/plain": [
              "<Figure size 432x288 with 1 Axes>"
            ],
            "image/png": "[encoded data removed]"
          },
          "metadata": {
            "needs_background": "light"
          }
        },
        {
          "output_type": "display_data",
          "data": {
            "text/plain": [
              "<Figure size 432x288 with 1 Axes>"
            ],
            "image/png": "[encoded data removed]"
          },
          "metadata": {
            "needs_background": "light"
          }
        }
      ]
    },
    {
      "cell_type": "code",
      "source": [
        "# Similarly if we start with a small deviation from pattern 1.\n",
        "# It should converge to pattern 1.\n",
        "\n",
        "num_flip = 3\n",
        "\n",
        "index_to_flip = np.random.permutation(size)[0:num_flip]\n",
        "noisy_pattern = np.copy(patterns[1])\n",
        "noisy_pattern[index_to_flip] = -noisy_pattern[index_to_flip]\n",
        "hn.set_state(noisy_pattern)\n",
        "\n",
        "current_state = hn.get_current_state()\n",
        "plt.imshow(np.reshape(current_state,(5,5)), cmap='gray')\n",
        "plt.show()\n",
        "hn.run_till_converge()\n",
        "current_state = hn.get_current_state()\n",
        "plt.imshow(np.reshape(current_state,(5,5)), cmap='gray')\n",
        "plt.show()"
      ],
      "metadata": {
        "colab": {
          "base_uri": "https://localhost:8080/",
          "height": 513
        },
        "id": "Zz200Qya9_MO",
        "outputId": "f1d9b6d8-8a3a-4092-8c9f-442947c7aca0"
      },
      "execution_count": null,
      "outputs": [
        {
          "output_type": "display_data",
          "data": {
            "text/plain": [
              "<Figure size 432x288 with 1 Axes>"
            ],
            "image/png": "[encoded data removed]"
          },
          "metadata": {
            "needs_background": "light"
          }
        },
        {
          "output_type": "display_data",
          "data": {
            "text/plain": [
              "<Figure size 432x288 with 1 Axes>"
            ],
            "image/png": "[encoded data removed]"
          },
          "metadata": {
            "needs_background": "light"
          }
        }
      ]
    },
    {
      "cell_type": "code",
      "source": [
        "# Now, let's find the max flips that can be restored.\n",
        "# Because we have 2 stored patterns, the tolerance of the network decreases.\n",
        "\n",
        "num_flip = 5 # TO DO: Change this value, find the max that network can be restored. \n",
        "\n",
        "index_to_flip = np.random.permutation(size)[0:num_flip]\n",
        "noisy_pattern = np.copy(patterns[0])\n",
        "noisy_pattern[index_to_flip] = -noisy_pattern[index_to_flip]\n",
        "hn.set_state(noisy_pattern)\n",
        "hn.run_till_converge()\n",
        "current_state = hn.get_current_state()\n",
        "plt.imshow(np.reshape(current_state,(5,5)), cmap='gray')\n",
        "plt.show()"
      ],
      "metadata": {
        "colab": {
          "base_uri": "https://localhost:8080/",
          "height": 265
        },
        "id": "vAhCuVLn-IcR",
        "outputId": "53ae378d-1c03-4136-d7d4-4f2124604feb"
      },
      "execution_count": null,
      "outputs": [
        {
          "output_type": "display_data",
          "data": {
            "text/plain": [
              "<Figure size 432x288 with 1 Axes>"
            ],
            "image/png": "[encoded data removed]"
          },
          "metadata": {
            "needs_background": "light"
          }
        }
      ]
    },
    {
      "cell_type": "markdown",
      "source": [
        "## 4. Capacity\n",
        "\n",
        "If we store too many patterns in a Hopfield network, a small deviation can lead the network to converge into a wrong pattern.\n",
        "\n",
        "If we require perfect retrieval that the network can restore the pattern when 1 unit is wrong, now try to find the maximum number of patterns that can be stored and perfectly retrieved in a Hopfield network."
      ],
      "metadata": {
        "id": "uztThR-7_I9f"
      }
    },
    {
      "cell_type": "code",
      "source": [
        "size = 25\n",
        "hn = Hopfield_nn(size=size)\n",
        "break_flag = False\n",
        "for num_patterns in range(size):\n",
        "  # store num_patterns patterns in the network\n",
        "  patterns = n_random_patterns(num_patterns, size)\n",
        "  hn.one_shot_learn(patterns)\n",
        "  # test if all the patterns can be retrieved perfectly\n",
        "  for pattern in patterns:\n",
        "    # flip 1 unit\n",
        "    index_to_flip = np.random.permutation(size)[0]\n",
        "    noisy_pattern = np.copy(pattern)\n",
        "    noisy_pattern[index_to_flip] = -noisy_pattern[index_to_flip]\n",
        "    hn.set_state(noisy_pattern)\n",
        "    hn.run_till_converge()\n",
        "    current_state = hn.get_current_state()\n",
        "    if not np.array_equal(pattern, current_state):\n",
        "      print(\"Pattern unretrievable when num_patterns=\"+str(num_patterns))\n",
        "      break_flag = True\n",
        "      break\n",
        "  if break_flag:\n",
        "    break"
      ],
      "metadata": {
        "colab": {
          "base_uri": "https://localhost:8080/"
        },
        "cellView": "code",
        "id": "ZNkaTGf3_IZ5",
        "outputId": "f90d9542-c6ec-4948-a934-c4de441df581"
      },
      "execution_count": null,
      "outputs": [
        {
          "output_type": "stream",
          "name": "stdout",
          "text": [
            "Pattern unretrievable when num_patterns=4\n"
          ]
        }
      ]
    },
    {
      "cell_type": "markdown",
      "source": [
        "**TO DO:** You may find that the number above fluctuates. Now try to find the capacity of a Hopfield network with 1000 neurons. Run 20 times, then calculate the mean capacity."
      ],
      "metadata": {
        "id": "x1N0_JLu1903"
      }
    },
    {
      "cell_type": "markdown",
      "source": [
        "## 5. Playground\n",
        "\n",
        "In the above experiments we used random patterns. Now try to make visual patterns by hand, such as 3 letters or any other interesting patterns. Repeat the \"noise\" experiment (i.e. how many flips can the network tolerate)."
      ],
      "metadata": {
        "id": "zmeij1sY5TzC"
      }
    },
    {
      "cell_type": "markdown",
      "source": [
        "## 6. Extra\n",
        "\n",
        "Feel free to explore any other questions related to Hopfield network (for example what is a [modern Hopfield network](https://en.wikipedia.org/wiki/Modern_Hopfield_network))."
      ],
      "metadata": {
        "id": "RDusmkqI6mkF"
      }
    },
    {
      "cell_type": "code",
      "source": [
        ""
      ],
      "metadata": {
        "id": "rSVmqGjk5YjY"
      },
      "execution_count": null,
      "outputs": []
    }
  ]
}