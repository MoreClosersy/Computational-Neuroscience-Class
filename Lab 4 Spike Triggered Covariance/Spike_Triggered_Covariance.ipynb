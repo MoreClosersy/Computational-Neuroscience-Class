{
  "nbformat": 4,
  "nbformat_minor": 0,
  "metadata": {
    "colab": {
      "name": "Spike_Triggered_Covariance.ipynb",
      "provenance": [],
      "collapsed_sections": [
        "l8tjr-PJMIK2",
        "8JGENQaCPMpi",
        "SLup6lpmwRuI",
        "ZJWFDJMmsZWr"
      ],
      "toc_visible": true,
      "include_colab_link": true
    },
    "kernelspec": {
      "name": "python3",
      "display_name": "Python 3"
    },
    "language_info": {
      "name": "python"
    }
  },
  "cells": [
    {
      "cell_type": "markdown",
      "metadata": {
        "id": "view-in-github",
        "colab_type": "text"
      },
      "source": [
        "<a href=\"https://colab.research.google.com/github/xup5/Computational-Neuroscience-Class/blob/main/Lab%204%20Spike%20Triggered%20Covariance/Spike_Triggered_Covariance.ipynb\" target=\"_parent\"><img src=\"https://colab.research.google.com/assets/colab-badge.svg\" alt=\"Open In Colab\"/></a>"
      ]
    },
    {
      "cell_type": "markdown",
      "source": [
        "# Spike-triggered Covariance (STC)\n",
        "\n",
        "This is a tutorial for linear visual filters (receptive fields)\n",
        "and spike-triggered covariance.\n",
        "\n",
        "(1) Examples of constructing visual Gabor filters and\n",
        "filtering an image.\n",
        "\n",
        "(2) Examples of spike-triggered aproaches to find filters.\n",
        "\n",
        "Odelia Schwartz 2012, transcribed and modified by Xu Pan in 2022.\n",
        "\n",
        "This is a simplified version of: \n",
        "Spike-triggered neural characterization.\n",
        "Schwartz, Pillow, Rust, Simoncelli,\n",
        "Journal of Vision, 2006."
      ],
      "metadata": {
        "id": "PV4xFqJRIi9e"
      }
    },
    {
      "cell_type": "markdown",
      "source": [
        "## 1. Visual filters and images\n",
        "\n"
      ],
      "metadata": {
        "id": "gxctqjUEJAEj"
      }
    },
    {
      "cell_type": "markdown",
      "source": [
        "### Helper functions\n",
        "I made you two functions that can generate 2D sinusoidal and Gaussian images.\n",
        "\n",
        "makeGaussian(imsize, cov)\n",
        "\n",
        "makeSine(imsize, spatialf, ori, phase)\n",
        "\n",
        "***You don't have to look inside. Just run it.***"
      ],
      "metadata": {
        "id": "l8tjr-PJMIK2"
      }
    },
    {
      "cell_type": "code",
      "source": [
        "import numpy as np\n",
        "\n",
        "def makeGaussian(size, cov=5):\n",
        "  x = np.arange(0, size, 1, float)\n",
        "  y = x[:,np.newaxis]\n",
        "  x0 = y0 = (size) / 2  # this is for matching old matlab code.\n",
        "  gaussian = np.exp(((x-x0)**2 + (y-y0)**2) / (-2*cov))\n",
        "  gaussian = gaussian/np.max(gaussian)\n",
        "  return gaussian\n",
        "\n",
        "def makeSine(imsize=10, spatialf=5, ori=0, phase=0):\n",
        "  ori = ori/180*np.pi\n",
        "  phi = phase/180*np.pi\n",
        "  try:\n",
        "    im = np.ones((imsize[0],imsize[1]))\n",
        "    x0 = (imsize[0]+1) / 2 - 1\n",
        "    y0 = (imsize[1]+1) / 2 - 1\n",
        "  except:\n",
        "    im = np.ones((imsize,imsize))\n",
        "    x0 = y0 = (imsize+1) / 2 - 1 # this is for matching old matlab code.\n",
        "    imsize = [imsize,imsize]\n",
        "  for x in range(imsize[0]):\n",
        "      for y in range(imsize[1]):\n",
        "          im[x,y] = np.sin(2*np.pi/spatialf*(((x0-x)*np.sin(ori)+(y0-y)*np.cos(ori)))+phi)           \n",
        "  return im\n"
      ],
      "metadata": {
        "id": "z9v8sP2kJDG-"
      },
      "execution_count": null,
      "outputs": []
    },
    {
      "cell_type": "markdown",
      "source": [
        "### 1a Gabor filters and images"
      ],
      "metadata": {
        "id": "D1h6e3FCJDo5"
      }
    },
    {
      "cell_type": "code",
      "source": [
        "import matplotlib.pyplot as plt\n",
        "\n",
        "# Set parameters of sinusoid\n",
        "sz = 20\n",
        "period = 5\n",
        "direction = 0\n",
        "phase = 0\n",
        "theSine = makeSine(sz,period,direction,phase)\n",
        "\n",
        "# Plot the sinusoid\n",
        "plt.imshow(theSine,cmap='gray')"
      ],
      "metadata": {
        "id": "-a1pqMOqnQXt"
      },
      "execution_count": null,
      "outputs": []
    },
    {
      "cell_type": "code",
      "source": [
        "# Make a 2 dimensional Gaussian and plot it\n",
        "thesig = 2\n",
        "theGauss = makeGaussian(sz, thesig);\n",
        "plt.imshow(theGauss,cmap='gray')"
      ],
      "metadata": {
        "id": "dWBqRMm4rZjJ"
      },
      "execution_count": null,
      "outputs": []
    },
    {
      "cell_type": "code",
      "source": [
        "# Make a Gabor filter, by multiplying a sinusoid with a Gaussian.\n",
        "theFilt = theSine * theGauss;\n",
        "plt.imshow(theFilt,cmap='gray')"
      ],
      "metadata": {
        "id": "ofB0oTz-xuBo"
      },
      "execution_count": null,
      "outputs": []
    },
    {
      "cell_type": "code",
      "source": [
        "# Load an image\n",
        "\n",
        "# download an image from our repository\n",
        "!wget https://github.com/schwartz-cnl/Computational-Neuroscience-Class/blob/main/Lab%204%20Spike%20Triggered%20Covariance/einstein.pgm?raw=true -O einstein.pgm\n",
        "\n",
        "from skimage.io import imread\n",
        "im = imread('einstein.pgm')\n",
        "plt.imshow(im, cmap='gray')"
      ],
      "metadata": {
        "id": "fB38t41R35oS"
      },
      "execution_count": null,
      "outputs": []
    },
    {
      "cell_type": "markdown",
      "source": [
        "### 1b Convolve the image with the filter"
      ],
      "metadata": {
        "id": "F55cUdx-6vKt"
      }
    },
    {
      "cell_type": "code",
      "source": [
        "from scipy import signal\n",
        "\n",
        "response = signal.convolve2d(im, theFilt, mode='valid')\n",
        "plt.imshow(response, cmap='gray')"
      ],
      "metadata": {
        "id": "LHNLwk4x6qZQ"
      },
      "execution_count": null,
      "outputs": []
    },
    {
      "cell_type": "markdown",
      "source": [
        "### To do:\n",
        "1. Try making different Gabor filters by varying parameters above\n",
        "(e.g., direction, priod, phase of the grating; and thesig of the Gaussian)"
      ],
      "metadata": {
        "id": "8JGENQaCPMpi"
      }
    },
    {
      "cell_type": "markdown",
      "source": [
        "## 2. Spike-triggered approaches\n",
        "We have constructed in advance few model neurons. We will use spike-triggered approaches to figure out the receptive field properties of the neurons."
      ],
      "metadata": {
        "id": "aUZwnTAYPY_0"
      }
    },
    {
      "cell_type": "markdown",
      "source": [
        "### Neuron models\n",
        "This section has 3 functions: ClassModel1, ClassModel2, ClassModel3. You can think of them as \"neurons\" that take stimulus as input and give response as output. (Just like what we did in Lab2.)\n",
        "\n",
        "***You don't have to look inside. Just run it.***"
      ],
      "metadata": {
        "id": "SLup6lpmwRuI"
      }
    },
    {
      "cell_type": "code",
      "source": [
        "def ClassModel1(allStim):\n",
        "  xDim = 8\n",
        "  kernelX = xDim                # spatial size of filter\n",
        "  kernelT = 6                   # temporal size of filter\n",
        "  kernelSize = kernelX * kernelT\n",
        "  nFrames = allStim.shape[0]\n",
        "\n",
        "  p = 2\n",
        "  th = 180/4\n",
        "  rate = 1/6\n",
        "  base = 0\n",
        "  itau = 1.2\n",
        "  sig=1.6 \n",
        "  per=4.5\n",
        "  x = np.arange(1, kernelX+1, 1, float)-(kernelX+1)/2\n",
        "  y = np.arange(kernelT, 0, -1, float)\n",
        "  y = y[:,np.newaxis]\n",
        "  v1 = np.exp(-x**2/(2*sig**2)) * np.exp(-itau*y) * y**2 * makeSine([kernelT,kernelX], per, th, 0)\n",
        "  v1 = v1.flatten()\n",
        "  v1 = v1/np.sqrt(np.var(v1,ddof=1))\n",
        "\n",
        "  linResp = base + rate * np.maximum((np.matmul(allStim,v1)),0)**p\n",
        "  linResp = 20*linResp/np.max(linResp)\n",
        "  spikeResp = (linResp > np.random.rand(nFrames))\n",
        "  spikeResp[0:(kernelT-1)] = 0  # can't use these\n",
        "\n",
        "  return spikeResp\n",
        "\n",
        "###############################################################################\n",
        "def ClassModel2(allStim):\n",
        "  xDim = 8\n",
        "  kernelX = xDim                # spatial size of filter\n",
        "  kernelT = 6                   # temporal size of filter\n",
        "  kernelSize = kernelX * kernelT\n",
        "  nFrames = allStim.shape[0]\n",
        "\n",
        "  p = 2\n",
        "  th = 180/4\n",
        "  rate = 1/12\n",
        "  base = 00\n",
        "  itau = 1.2\n",
        "  sig=1.6\n",
        "  per=4.5\n",
        "  x = np.arange(1, kernelX+1, 1, float)-(kernelX+1)/2\n",
        "  y = np.arange(kernelT, 0, -1, float)\n",
        "  y = y[:,np.newaxis]\n",
        "  v1 = np.exp(-x**2/(2*sig**2)) * np.exp(-itau*y) * y**2 * makeSine([kernelT,kernelX], per, th, 0)\n",
        "  v1 = v1.flatten()\n",
        "  v1 = v1/np.sqrt(np.var(v1,ddof=1))\n",
        "  v2 = np.exp(-x**2/(2*sig**2)) * np.exp(-itau*y) * y**2 * makeSine([kernelT,kernelX], per, th, 90)\n",
        "  v2 = v2.flatten()\n",
        "  v2 = v2/np.sqrt(np.var(v2,ddof=1))\n",
        "\n",
        "  linResp = base + rate * (np.abs((np.matmul(allStim,v1)))**p + np.abs((np.matmul(allStim,v2)))**p)\n",
        "  linResp = linResp/np.max(linResp)\n",
        "  spikeResp = (linResp > np.random.rand(nFrames))\n",
        "  spikeResp[0:(kernelT-1)] = 0  # can't use these\n",
        "\n",
        "  return spikeResp\n",
        "\n",
        "###############################################################################\n",
        "def ClassModel3(allStim):\n",
        "  xDim = 8\n",
        "  kernelX = xDim                # spatial size of filter\n",
        "  kernelT = 6                   # temporal size of filter\n",
        "  kernelSize = kernelX * kernelT\n",
        "  nFrames = allStim.shape[0]\n",
        "\n",
        "  p = 2\n",
        "  th = 180/4\n",
        "  rate = 0.25\n",
        "  base = 00\n",
        "  itau = 1.2\n",
        "  sig=1.6\n",
        "  per=4.5\n",
        "  x = np.arange(1, kernelX+1, 1, float)-(kernelX+1)/2\n",
        "  y = np.arange(kernelT, 0, -1, float)\n",
        "  y = y[:,np.newaxis]\n",
        "  v1 = np.exp(-x**2/(2*sig**2)) * np.exp(-itau*y) * y**2 * makeSine([kernelT,kernelX], per, th, 0)\n",
        "  v1 = v1.flatten()\n",
        "  v1 = v1/np.sqrt(np.var(v1,ddof=1))\n",
        "  v2 = np.exp(-x**2/(2*sig**2)) * np.exp(-itau*y) * y**2 * makeSine([kernelT,kernelX], per, th, 90)\n",
        "  v2 = v2.flatten()\n",
        "  v2 = v2/np.sqrt(np.var(v2,ddof=1))\n",
        "  v3 = np.exp(-x**2/(2*sig**2)) * np.exp(-itau*y) * y**2 * makeSine([kernelT,kernelX], per, th+90, 0)\n",
        "  v3 = v3.flatten()\n",
        "  v3 = v3/np.sqrt(np.var(v3,ddof=1))\n",
        "\n",
        "  l1 = (np.matmul(allStim,v1)>0)*(np.matmul(allStim,v1))**p # half squared\n",
        "  l2 = (np.matmul(allStim,v2))**p\n",
        "  l3 = (np.matmul(allStim,v3))**p\n",
        "\n",
        "  linResp = (1+l1)/(1+0.03*l2+0.05*l3)\n",
        "  linResp = 15*rate*linResp/np.max(linResp)\n",
        "\n",
        "  spikeResp = (linResp > np.random.rand(nFrames))\n",
        "  spikeResp[0:(kernelT-1)] = 0  # can't use these\n",
        "\n",
        "  return spikeResp"
      ],
      "metadata": {
        "id": "zg9cQn6SUG_v"
      },
      "execution_count": null,
      "outputs": []
    },
    {
      "cell_type": "markdown",
      "source": [
        "### 2a. Generate random stimuli to \"probe\" the neuron with"
      ],
      "metadata": {
        "id": "NHwsyvWFPqmM"
      }
    },
    {
      "cell_type": "code",
      "source": [
        "nFrames = 500000\n",
        "xDim = 8\n",
        "kernelX = xDim                 # spatial size of noise stimulus\n",
        "kernelT = 6                    # temporal size of noise stimulus\n",
        "kernelSize = kernelX * kernelT\n",
        "allStim = np.random.randn(nFrames, kernelSize)"
      ],
      "metadata": {
        "id": "j_n9_T7DPpGt"
      },
      "execution_count": null,
      "outputs": []
    },
    {
      "cell_type": "code",
      "source": [
        "# Show example frames of the white noise stimuli\n",
        "\n",
        "fig, _ = plt.subplots(4, 4, constrained_layout=True, figsize=(8, 6))\n",
        "for i,ax in enumerate(fig.axes):\n",
        "  ax.imshow(np.reshape(allStim[i,:],(6,8)), cmap='gray')"
      ],
      "metadata": {
        "id": "gF05IzLPQXFY"
      },
      "execution_count": null,
      "outputs": []
    },
    {
      "cell_type": "markdown",
      "source": [
        "### 2b. Generate spikes from a model neuron"
      ],
      "metadata": {
        "id": "KMXMNhuiHGq9"
      }
    },
    {
      "cell_type": "code",
      "source": [
        "# This can be toggled for different model neurons; choose from:\n",
        "\n",
        "spikeResp = ClassModel1(allStim)\n",
        "# spikeResp = ClassModel2(allStim)\n",
        "# spikeResp = ClassModel3(allStim)"
      ],
      "metadata": {
        "id": "b1hl1xRWHEE4"
      },
      "execution_count": null,
      "outputs": []
    },
    {
      "cell_type": "code",
      "source": [
        "# Plot the spiking activity for the first 100 frames\n",
        "\n",
        "plt.plot(spikeResp[1:100],'o')\n",
        "plt.title('Spikes', fontsize=16)\n",
        "plt.xlabel('Time (ms)', fontsize=16)"
      ],
      "metadata": {
        "id": "R51GQYybQ-pE"
      },
      "execution_count": null,
      "outputs": []
    },
    {
      "cell_type": "markdown",
      "source": [
        "### 2c. Spike-triggered average"
      ],
      "metadata": {
        "id": "s9FOVlnWxill"
      }
    },
    {
      "cell_type": "code",
      "source": [
        "# Compute the spike-triggered average\n",
        "\n",
        "# First find the frames for which the model neuron spiked\n",
        "\n",
        "spikeInd=np.where(spikeResp>0.5)[0]"
      ],
      "metadata": {
        "id": "KcbIfMxMKFNF"
      },
      "execution_count": null,
      "outputs": []
    },
    {
      "cell_type": "code",
      "source": [
        "# Then find the spike-triggered stimuli, i.e., the stimuli for which\n",
        "# the neuron spiked\n",
        "\n",
        "spikeStim = allStim[spikeInd,:]\n",
        "numspikes = len(spikeInd)"
      ],
      "metadata": {
        "id": "wIEksdbDKVsD"
      },
      "execution_count": null,
      "outputs": []
    },
    {
      "cell_type": "code",
      "source": [
        "# Plot some example stimulus frames of the spike-triggered stimuli\n",
        "# Can you tell by eye what in the stimulus is triggering a spike?\n",
        "\n",
        "fig, _ = plt.subplots(4, 4, constrained_layout=True, figsize=(8, 6))\n",
        "for i,ax in enumerate(fig.axes):\n",
        "  ax.imshow(np.reshape(spikeStim[i,:],(6,8)), cmap='gray')"
      ],
      "metadata": {
        "id": "4E-kWGauKoWL"
      },
      "execution_count": null,
      "outputs": []
    },
    {
      "cell_type": "code",
      "source": [
        "# We'll plot the spike-triggered average (STA)\n",
        "# Is it a structured receptive field?\n",
        "\n",
        "sta = np.mean(spikeStim, axis=0)\n",
        "plt.imshow(np.reshape(sta,(6,8)), cmap='gray')"
      ],
      "metadata": {
        "id": "7hD1NohlT9Z6"
      },
      "execution_count": null,
      "outputs": []
    },
    {
      "cell_type": "markdown",
      "source": [
        "Are there other receptive fields this model neuron is using to compute its spikes?"
      ],
      "metadata": {
        "id": "OVgG00pYUZJy"
      }
    },
    {
      "cell_type": "markdown",
      "source": [
        "### 2d. Spike-triggered covariance"
      ],
      "metadata": {
        "id": "52i_evyTxp2C"
      }
    },
    {
      "cell_type": "code",
      "source": [
        "# The spike-triggered average reveals changes in the mean.\n",
        "# We would like richer characterizations of the neurons by looking\n",
        "# for changes in the variance.\n",
        "# We'll do a simple version of a spike-triggered covariance\n",
        "# This is a Principal Component Analysis, computing the eigenvalues\n",
        "# (variances along each receptive field axes) and the eigenvectors\n",
        "# (the receptive field axes).\n",
        "# Technical note: In papers, we usually first project out the STA (which we\n",
        "# did not do here for simiplicity)\n",
        "\n",
        "thecov = np.matmul(spikeStim.T, spikeStim)/(numspikes-1);\n",
        "(eigval, eigvec) = np.linalg.eig(thecov)\n",
        "\n",
        "# Order the eigval and eigvec\n",
        "idx = eigval.argsort()[::-1]   \n",
        "eigval = eigval[idx]\n",
        "eigvec = eigvec[:,idx]\n",
        "\n",
        "# Plot the (sorted) eigenvalues \n",
        "# This tells you which eigenvalues have variance that\n",
        "# is significantly higher or lower than the rest.\n",
        "plt.plot(eigval, 'o')\n",
        "plt.ylabel('Variance', fontsize=16)\n",
        "plt.xlabel('Ordered Eigenvalues', fontsize=16)"
      ],
      "metadata": {
        "id": "hcLcfFefUwUI"
      },
      "execution_count": null,
      "outputs": []
    },
    {
      "cell_type": "markdown",
      "source": [
        "How many appear significant?"
      ],
      "metadata": {
        "id": "iM0JDe5xgdPf"
      }
    },
    {
      "cell_type": "code",
      "source": [
        "# Plot a corresponding eigenvector that appears significant(e.g., here for\n",
        "# ClassModel1 set to the first, which is indice 0)\n",
        "# This eigenvector corresponds to a filter/feature.receptive fiels that contributes\n",
        "# to the model neuron response.\n",
        "# Some model neurons may have more than one such receptive field (the ordered eigenvalues\n",
        "# above tell you which are significant!)\n",
        "# In one of the models, the last two eigenvalues are significant!\n",
        "# For that model, change thenum1 and thenum2 to reflect the last two eigenvalues\n",
        "# (e.g., 46 and 47)\n",
        "# Technical note: If the STA was structured, the first eigenvector could just be the \n",
        "# STA receptive field (possibly negated)\n",
        "\n",
        "thenum1 = 0\n",
        "plt.imshow(np.reshape(eigvec[:,thenum1],(6,8)), cmap='gray')"
      ],
      "metadata": {
        "id": "hvoWm0xKgwR_"
      },
      "execution_count": null,
      "outputs": []
    },
    {
      "cell_type": "code",
      "source": [
        "# Plot another eigenvector\n",
        "# Here set to the second, but change as needed...\n",
        "# The second may or may not be significant in terms of the variance,\n",
        "# depending on the model. In one of the models, the last two are significant!\n",
        "# For that model, change thenum1 and thenum2 to reflect the last two eigenvalues\n",
        "# (e.g., 46 and 47)\n",
        "\n",
        "thenum2 = 1\n",
        "plt.imshow(np.reshape(eigvec[:,thenum2],(6,8)), cmap='gray')"
      ],
      "metadata": {
        "id": "K0hSIkkwhB7e"
      },
      "execution_count": null,
      "outputs": []
    },
    {
      "cell_type": "markdown",
      "source": [
        "Is it structured? Do we expect it to be based on the eigenvalues?"
      ],
      "metadata": {
        "id": "7cvJ4c6rhRQi"
      }
    },
    {
      "cell_type": "code",
      "source": [
        "# Look at scatter plots onto two eigenvectors or receptive fields.\n",
        "# We will compare the responses to the spike-triggered stimuli with\n",
        "# those to the full stimulus set. We will match the number of stimuli\n",
        "# for readability of the plots.\n",
        "\n",
        "# The two receptive field\n",
        "basis2 = eigvec[:,thenum2]\n",
        "basis1 = eigvec[:,thenum1]\n",
        "# Responses of the two receptive fields to all stimuli\n",
        "allProj = [np.matmul(allStim,basis2), np.matmul(allStim,basis1)]\n",
        "# And to the spike-triggered stimuli\n",
        "spikeProj = [np.matmul(spikeStim,basis2), np.matmul(spikeStim,basis1)]\n",
        "\n",
        "thenum = min(20000, numspikes)\n",
        "plt.figure(figsize=(6, 6))\n",
        "plt.scatter(allProj[0][0:thenum], allProj[1][0:thenum], facecolors='none', edgecolors='b', label='All stim')\n",
        "plt.scatter(spikeProj[0][0:thenum], spikeProj[1][0:thenum], facecolors='none', edgecolors='r', label='Spike stim')\n",
        "plt.xlim([-5,5])\n",
        "plt.ylim([-5,5])\n",
        "plt.ylabel('Receptive field 1', fontsize=16)\n",
        "plt.xlabel('Receptive field 2', fontsize=16)\n",
        "plt.legend()"
      ],
      "metadata": {
        "id": "8P1MXYjOhQZO"
      },
      "execution_count": null,
      "outputs": []
    },
    {
      "cell_type": "code",
      "source": [
        "# Plot ellipse signifying the variances found by the Principal Component Analysis\n",
        "# Technical note: model 1 has an asymmetric nonlinearity, so we only see a change\n",
        "# in the mean for the spike-triggered (red) stimuli. For the other models, you\n",
        "# should see a change in the variance\n",
        "\n",
        "angles=np.linspace(0, 2*np.pi, 100)\n",
        "\n",
        "# Variance along the 2 receptive fields\n",
        "ellipse = [3*np.sqrt(eigval[thenum2])*np.cos(angles), 3*np.sqrt(eigval[thenum1])*np.sin(angles)]\n",
        "\n",
        "# Variance along 2 other directions that are not structured\n",
        "ellipse_other = [3*np.sqrt(eigval[24])*np.cos(angles), 3*np.sqrt(eigval[25])*np.sin(angles)]\n",
        "\n",
        "# Plot the ellipses\n",
        "plt.figure(figsize=(6, 6))\n",
        "plt.scatter(allProj[0][0:thenum], allProj[1][0:thenum], facecolors='none', edgecolors='b', label='All stim')\n",
        "plt.scatter(spikeProj[0][0:thenum], spikeProj[1][0:thenum], facecolors='none', edgecolors='r', label='Spike stim')\n",
        "plt.plot(ellipse[0],ellipse[1], 'r', linewidth=3)\n",
        "plt.plot(ellipse_other[0],ellipse_other[1], 'b', linewidth=3)\n",
        "plt.xlim([-5,5])\n",
        "plt.ylim([-5,5])\n",
        "plt.ylabel('Receptive field 1', fontsize=16)\n",
        "plt.xlabel('Receptive field 2', fontsize=16)"
      ],
      "metadata": {
        "id": "zESgrTwliEBs"
      },
      "execution_count": null,
      "outputs": []
    },
    {
      "cell_type": "markdown",
      "source": [
        "## Question:\n",
        "Go through each of the model neurons in this tutorial, and describe what you found. Plot the Spike-triggered average (STA). In the spike-triggered covraiance analysis, what eigenvectors (receptive fields) had a striking high or low variance relative to the rest? Plot them. What did the scatter plot signify? Hint: we talked about these similar model neuron examples in class when we discussed the spike-triggered covariance!\n"
      ],
      "metadata": {
        "id": "ZJWFDJMmsZWr"
      }
    }
  ]
}