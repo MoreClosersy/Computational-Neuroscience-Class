{
  "nbformat": 4,
  "nbformat_minor": 0,
  "metadata": {
    "colab": {
      "name": "neuralBox1.ipynb",
      "provenance": [],
      "collapsed_sections": [
        "DvJu8lvg0VVD"
      ],
      "include_colab_link": true
    },
    "kernelspec": {
      "name": "python3",
      "display_name": "Python 3"
    },
    "language_info": {
      "name": "python"
    }
  },
  "cells": [
    {
      "cell_type": "markdown",
      "metadata": {
        "id": "view-in-github",
        "colab_type": "text"
      },
      "source": [
        "<a href=\"https://colab.research.google.com/github/schwartz-cnl/Computational-Neuroscience-Class/blob/main/Neural%20Box/neuralBox1.ipynb\" target=\"_parent\"><img src=\"https://colab.research.google.com/assets/colab-badge.svg\" alt=\"Open In Colab\"/></a>"
      ]
    },
    {
      "cell_type": "markdown",
      "source": [
        "#Neural Box 1\n",
        "\n",
        "Odelia Schwartz, Xu Pan\n",
        "\n",
        "\n",
        "Partly based on Cold Spring Harbor tutorial by Chichilnisky. This is a tutorial for understanding linear filter properties of neurons, and generating neural spikes\n",
        "based on a linear filter followed by a simple nonlinearity. This is part one of two tutorials. We are going to first show how to generate neural model responses, which we will later probe and \"guess\"/figure out the properties.\n",
        "\n",
        "The model neuron includes one linear and one nonlinear component. We follow this by Poisson spiking. We have made several versions of model neurons based on Chichilnisky's tutorial."
      ],
      "metadata": {
        "id": "kbNQwt63oyL_"
      }
    },
    {
      "cell_type": "markdown",
      "source": [
        "## Generate a stimulus"
      ],
      "metadata": {
        "id": "nbFzsZjl0jwh"
      }
    },
    {
      "cell_type": "code",
      "execution_count": null,
      "metadata": {
        "id": "nMr0vNjSnxd_"
      },
      "outputs": [],
      "source": [
        "# We want to first choose experimental stimuli that are random.\n",
        "# At each frame, the intensity of the uniform screen changes:\n",
        "# it is drawn randomly, here from a Gaussian distribution.\n",
        "\n",
        "import numpy as np\n",
        "\n",
        "numsamples = 25000\n",
        "stimulus=(1/3*np.random.normal(size=numsamples))"
      ]
    },
    {
      "cell_type": "code",
      "source": [
        "# Plot the stimulus\n",
        "\n",
        "import matplotlib.pyplot as plt\n",
        "\n",
        "plt.plot(stimulus[1:1000])\n",
        "plt.xlabel('Time (msec)', fontsize=16)\n",
        "plt.ylabel('Stimulus strength', fontsize=16)\n",
        "plt.title('First 1 second of stimulus', fontsize=16)"
      ],
      "metadata": {
        "id": "QUrSxut7y2dT"
      },
      "execution_count": null,
      "outputs": []
    },
    {
      "cell_type": "markdown",
      "source": [
        "## Neuron models\n",
        "\n",
        "This cell has 5 functions getLinear1, getLinear2, getLinear3, getNonlinear1, getNonlinear2. You can think of them as \"neurons\" that take stimulus as input and give response as output.\n",
        "\n",
        "***You don't have to look inside. Just run it.***"
      ],
      "metadata": {
        "id": "DvJu8lvg0VVD"
      }
    },
    {
      "cell_type": "code",
      "source": [
        "def getLinear1(stimulus, kernelSize):\n",
        "  # Compute the linear response using a single exponential\n",
        "  # lowpass filter.  You could substitute other linear filters here if you\n",
        "  # wanted to, but this one is pretty simple.\n",
        "  tau = 10 # time constant\n",
        "  linearResp = np.zeros(len(stimulus))\n",
        "  \n",
        "  for i in range(len(stimulus)-1):\n",
        "    # Solve the differential equation\n",
        "    linearResp[i+1] = linearResp[i] + (1/tau)*(stimulus[i]-linearResp[i]) \n",
        "  \n",
        "  # get the impulse response function which is also the \"filter\"\n",
        "  impulse = np.zeros(1000) # make a impulse stimulus\n",
        "  impulse[0] = 1\n",
        "  impulseResp = np.zeros(len(impulse))\n",
        "  for i in range(len(impulse)-1):\n",
        "    # Solve the differential equation\n",
        "    impulseResp[i+1] = impulseResp[i] + (1/tau)*(impulse[i]-impulseResp[i])\n",
        "  impulseResp = impulseResp[0:kernelSize]\n",
        "  filter = np.flipud(impulseResp)\n",
        "\n",
        "  return (linearResp, filter)\n",
        "\n",
        "###############################################################################\n",
        "def getLinear2(stimulus, kernelSize):\n",
        "  # Compute the linear response using a single exponential\n",
        "  # lowpass filter.  You could substitute other linear filters here if you\n",
        "  # wanted to, but this one is pretty simple.\n",
        "  tau = 5 # time constant\n",
        "  linearResp = np.zeros(len(stimulus))\n",
        "  \n",
        "  for i in range(len(stimulus)-1):\n",
        "    # Solve the differential equation\n",
        "    linearResp[i+1] = linearResp[i] + (1/tau)*(stimulus[i]-linearResp[i]) \n",
        "  \n",
        "  # get the impulse response function which is also the \"filter\"\n",
        "  impulse = np.zeros(1000) # make a impulse stimulus\n",
        "  impulse[0] = 1\n",
        "  impulseResp = np.zeros(len(impulse))\n",
        "  for i in range(len(impulse)-1):\n",
        "    # Solve the differential equation\n",
        "    impulseResp[i+1] = impulseResp[i] + (1/tau)*(impulse[i]-impulseResp[i])\n",
        "  impulseResp = impulseResp[0:kernelSize]\n",
        "  filter = np.flipud(impulseResp)\n",
        "\n",
        "  linearResp = -linearResp\n",
        "  filter = -filter\n",
        "\n",
        "  return (linearResp, filter)\n",
        "\n",
        "###############################################################################\n",
        "def getLinear3(stimulus, kernelSize):\n",
        "  # Compute the linear response using a 3-stage cascade of exponential\n",
        "  # lowpass filters.  You could substitute other linear filters here if you\n",
        "  # wanted to, but this one is pretty simple.\n",
        "  tau = 3 # time constant\n",
        "  linearResp = np.zeros((len(stimulus),3))\n",
        "  \n",
        "  for i in range(len(stimulus)-1):\n",
        "    # Solve the differential equation\n",
        "    linearResp[i+1,0] = linearResp[i,0] + (1/tau)*(stimulus[i]-linearResp[i,0])\n",
        "    linearResp[i+1,1] = linearResp[i,1] + (1/tau)*(linearResp[i,0]-linearResp[i,1])\n",
        "    linearResp[i+1,2] = linearResp[i,2] + (1/tau)*(linearResp[i,1]-linearResp[i,2])\n",
        "  \n",
        "  # Getting rid of the first- and second-order filtered signals, we only\n",
        "  # want the third one.\n",
        "  linearResp = linearResp[:,2]\n",
        "  \n",
        "  # get the impulse response function which is also the \"filter\"\n",
        "  impulse = np.zeros(1000) # make a impulse stimulus\n",
        "  impulse[0] = 1\n",
        "  impulseResp = np.zeros((len(stimulus),3))\n",
        "  for i in range(len(impulse)-1):\n",
        "    # Solve the differential equation\n",
        "    impulseResp[i+1,0] = impulseResp[i,0] + (1/tau)*(impulse[i]-impulseResp[i,0])\n",
        "    impulseResp[i+1,1] = impulseResp[i,1] + (1/tau)*(impulseResp[i,0]-impulseResp[i,1])\n",
        "    impulseResp[i+1,2] = impulseResp[i,2] + (1/tau)*(impulseResp[i,1]-impulseResp[i,2])\n",
        "\n",
        "  # Getting rid of the first- and second-order filtered signals, we only\n",
        "  # want the third one.\n",
        "  impulseResp = impulseResp[:,2]\n",
        "\n",
        "  impulseResp = impulseResp[0:kernelSize]\n",
        "  filter = np.flipud(impulseResp)\n",
        "\n",
        "  return (linearResp, filter)\n",
        "\n",
        "###############################################################################\n",
        "def getNonlinear1(linearResp):\n",
        "  nonlinearResp = np.zeros(len(linearResp))\n",
        "  theind = np.where(linearResp>0)\n",
        "  nonlinearResp[theind] = linearResp[theind]**2\n",
        "  return nonlinearResp\n",
        "\n",
        "###############################################################################\n",
        "def getNonlinear2(linearResp):\n",
        "  return linearResp**2"
      ],
      "metadata": {
        "id": "eq-ay4IkbqH0"
      },
      "execution_count": null,
      "outputs": []
    },
    {
      "cell_type": "markdown",
      "source": [
        "## Linear model"
      ],
      "metadata": {
        "id": "TW-ZmnxE1AgY"
      }
    },
    {
      "cell_type": "code",
      "source": [
        "# We're now going to simulate a model neuron\n",
        "# For purposes of this demo, we constructed the model\n",
        "# neurons and so know their filters and nonlinearity\n",
        "# (in an experiment with real neurons, we would be handed \n",
        "# the spike trains and would not  know this!)\n",
        "\n",
        "# We've made several versions of model neurons.\n",
        "# We have 3 possible linear filters.\n",
        "# Toggle between\n",
        "\n",
        "kernelSize = 60\n",
        "(linearResp, filter) = getLinear1(stimulus, kernelSize)\n",
        "# (linearResp, filter) = getLinear2(stimulus, kernelSize)\n",
        "# (linearResp, filter) = getLinear3(stimulus, kernelSize)"
      ],
      "metadata": {
        "id": "ArTc7VNlcR9l"
      },
      "execution_count": null,
      "outputs": []
    },
    {
      "cell_type": "code",
      "source": [
        "# The linear response smooths (averages) the stimulus\n",
        "# over time.  The top panel of the figure shows the first\n",
        "# second of the stimulus, and the third panel shows the \n",
        "# first second of the linear response.\n",
        "\n",
        "fig, axs = plt.subplots(2, constrained_layout=True, figsize=(6, 5))\n",
        "\n",
        "axs[0].plot(stimulus[0:1000])\n",
        "axs[0].set_title('Stimulus', fontsize=16)\n",
        "\n",
        "axs[1].plot(linearResp[0:1000])\n",
        "axs[1].set_title('Linear response', fontsize=16)\n",
        "axs[1].set_xlabel('Time (ms)', fontsize=16)"
      ],
      "metadata": {
        "id": "MTHYDlBkio-R"
      },
      "execution_count": null,
      "outputs": []
    },
    {
      "cell_type": "code",
      "source": [
        "# Let's look at the filter (which we usually would not know)\n",
        "\n",
        "plt.plot(filter, 'o-');\n",
        "plt.title('Actual filter', fontsize=16)\n",
        "plt.xlabel('Time (ms)', fontsize=16);"
      ],
      "metadata": {
        "id": "iLztzLdXfMbw"
      },
      "execution_count": null,
      "outputs": []
    },
    {
      "cell_type": "code",
      "source": [
        "# We would like to unpack this and see what the linear\n",
        "# filter is doing\n",
        "# Choose a random starting point, and examine the stimulus\n",
        "# starting from the random position and with a length equal\n",
        "# to the filter length. We'll plot both this stimulus sequence\n",
        "# and the filter. \n",
        "\n",
        "thestart = int(np.random.rand()*100+1)\n",
        "thelen = len(filter)\n",
        "thestim = stimulus[thestart:thelen+thestart]\n",
        "fig, axs = plt.subplots(3, constrained_layout=True, figsize=(6, 8))\n",
        "axs[0].plot(thestim, 'o-')\n",
        "axs[0].set_title('Stimulus', fontsize=16)\n",
        "axs[1].plot(filter, 'o-')\n",
        "axs[1].set_title('Filter', fontsize=16)\n",
        "\n",
        "# Plot the point by point multiplication of the filter\n",
        "# with the stimulus\n",
        "axs[2].plot(thestim*filter, 'o-')\n",
        "axs[2].set_title('Stimulus times filter', fontsize=16)\n",
        "axs[2].set_xlabel('Time (ms)', fontsize=16)"
      ],
      "metadata": {
        "id": "sPjLbVkUGIzK"
      },
      "execution_count": null,
      "outputs": []
    },
    {
      "cell_type": "code",
      "source": [
        "# The linear filter response to the stimulus, is the sum\n",
        "# of this point by point multiplication. This results in a\n",
        "# single number. This is also known as inner product or dot product.\n",
        "\n",
        "print(np.sum(filter*thestim)) # responses calculated by the inner product\n",
        "print(linearResp[thelen+thestart-1]) # responses returned by getLinear function (solving a differential equation)"
      ],
      "metadata": {
        "id": "FBmo7MdmRZCp"
      },
      "execution_count": null,
      "outputs": []
    },
    {
      "cell_type": "code",
      "source": [
        "# What if the input was exactly the linear filter\n",
        "# or variant of (toggle these)\n",
        "\n",
        "thestim = filter;\n",
        "#thestim = -filter;\n",
        "#thestim = np.flipud(filter);\n",
        "\n",
        "fig, axs = plt.subplots(3, constrained_layout=True, figsize=(6, 8))\n",
        "axs[0].plot(thestim)\n",
        "axs[0].set_title('Stimulus', fontsize=16)\n",
        "axs[1].plot(filter)\n",
        "axs[1].set_title('Filter', fontsize=16)\n",
        "axs[2].plot(thestim*filter)\n",
        "axs[2].set_title('Stimulus times filter', fontsize=16)\n",
        "axs[2].set_xlabel('Time (ms)', fontsize=16)\n"
      ],
      "metadata": {
        "id": "CYwIKfZaSZtZ"
      },
      "execution_count": null,
      "outputs": []
    },
    {
      "cell_type": "markdown",
      "source": [
        "## Non-linear model\n"
      ],
      "metadata": {
        "id": "CvaAeOT71NVj"
      }
    },
    {
      "cell_type": "code",
      "source": [
        "# Under a simple non-linear model, the firing rate of a neuron is\n",
        "# a single-valued non-linear function of an underlying linear response.\n",
        "# We can pick any such function we want -- this is done in getNonlinear.\n",
        "# Here we're applying this non-linear transformation on the linear response of\n",
        "# our simulated neuron. \n",
        "\n",
        "nonlinearResp = getNonlinear1(linearResp)\n",
        "# Toggle between\n",
        "# nonlinearResp = getNonlinear2(linearResp)"
      ],
      "metadata": {
        "id": "ssLNpvOKTPTL"
      },
      "execution_count": null,
      "outputs": []
    },
    {
      "cell_type": "code",
      "source": [
        "# We can plot together the linear and nonlinear response\n",
        "\n",
        "fig, axs = plt.subplots(2, constrained_layout=True, figsize=(6, 5))\n",
        "axs[0].plot(linearResp[0:1000])\n",
        "axs[0].set_title('Linear response', fontsize=16) \n",
        "axs[1].plot(nonlinearResp[1:1000], color='r')\n",
        "axs[1].set_title('Nonlinear function of linear response', fontsize=16)\n",
        "axs[1].set_xlabel('Time (ms)', fontsize=16)"
      ],
      "metadata": {
        "id": "YNO8PPBKmREQ"
      },
      "execution_count": null,
      "outputs": []
    },
    {
      "cell_type": "code",
      "source": [
        "# To understand this better, we try just few values\n",
        "# Try changing theval: Is there a pattern?\n",
        "\n",
        "theval = 220\n",
        "print(linearResp[theval])\n",
        "print(nonlinearResp[theval])"
      ],
      "metadata": {
        "id": "6eVctIXknHuu"
      },
      "execution_count": null,
      "outputs": []
    },
    {
      "cell_type": "code",
      "source": [
        "# Plot nonlinear function in the interval [-.3:.05:.3]\n",
        "# Toggle between\n",
        "\n",
        "modelNonlin = getNonlinear1(np.arange(-.3,.35,.05))\n",
        "# modelNonlin = getNonlinear2(np.arange(-.3,.35,.05))\n",
        "\n",
        "plt.plot(np.arange(-.3,.35,.05), modelNonlin, '-o');\n",
        "\n",
        "plt.xlabel('Linear response', fontsize=16)\n",
        "plt.ylabel('Nonlinear response', fontsize=16)"
      ],
      "metadata": {
        "id": "1cJh59j7nXAM"
      },
      "execution_count": null,
      "outputs": []
    },
    {
      "cell_type": "markdown",
      "source": [
        "## Spike train"
      ],
      "metadata": {
        "id": "Ej793DCZ1i61"
      }
    },
    {
      "cell_type": "code",
      "source": [
        "# We can use this non-linear response to simulate a \n",
        "# Poisson-ish spike train... as per last class!\n",
        "\n",
        "xr = np.random.rand(len(nonlinearResp))\n",
        "neuralResponse = nonlinearResp > .05*xr\n",
        "spikeCounts = neuralResponse"
      ],
      "metadata": {
        "id": "etRsHDD9o3zC"
      },
      "execution_count": null,
      "outputs": []
    },
    {
      "cell_type": "code",
      "source": [
        "# So far, we constructed a model neuron and its response to experimental\n",
        "# stimuli. We first constructed random Gaussian stimulus, we linearly \n",
        "# filtered it, put this linearly filtered signal through a non-linear \n",
        "# function to calculate an underlying firing rate of the cell, and used \n",
        "# this to simulate spikes coming out of the cell.  \n",
        "# Here's the first second of each of these:\n",
        "\n",
        "\n",
        "fig, axs = plt.subplots(3, constrained_layout=True, figsize=(6, 8))\n",
        "axs[0].plot(linearResp[0:1000])\n",
        "axs[0].set_title('Linear response', fontsize=16) \n",
        "axs[1].plot(nonlinearResp[1:1000], color='r')\n",
        "axs[1].set_title('Nonlinear function of linear response', fontsize=16)\n",
        "axs[2].stem(neuralResponse[1:1000], basefmt=\" \")\n",
        "axs[2].set_title('# of Spikes (1 ms bins)', fontsize=16)\n",
        "axs[2].set_xlabel('Time (ms)', fontsize=16)"
      ],
      "metadata": {
        "id": "AiOaARs2pSaW"
      },
      "execution_count": null,
      "outputs": []
    },
    {
      "cell_type": "markdown",
      "source": [
        "## Things to do in class:\n",
        "\n",
        "1. Try changing the linear function (choosing between getLinear1,\n",
        "getLinear2, getLinear3; see toggle comment). \n",
        "\n",
        "2. Try changing the nonlinear function (choose between getNonlinear1,\n",
        "getNonlinear2.m). Change it in the two places in the tutorial.\n",
        "What is the difference between getNonlinear1 and getNonlinear2?\n"
      ],
      "metadata": {
        "id": "blc9p5pg0Fuf"
      }
    }
  ]
}
