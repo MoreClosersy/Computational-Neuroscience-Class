{
  "nbformat": 4,
  "nbformat_minor": 0,
  "metadata": {
    "colab": {
      "name": "HodgkinHuxley.ipynb",
      "provenance": [],
      "collapsed_sections": [
        "3XvTWa-jgKNE",
        "NLgAzBGyJ5EH"
      ],
      "include_colab_link": true
    },
    "kernelspec": {
      "name": "python3",
      "display_name": "Python 3"
    },
    "language_info": {
      "name": "python"
    }
  },
  "cells": [
    {
      "cell_type": "markdown",
      "metadata": {
        "id": "view-in-github",
        "colab_type": "text"
      },
      "source": [
        "<a href=\"https://colab.research.google.com/github/xup5/Computational-Neuroscience-Class/blob/main/Lab%203%20Hodgkin-Huxley%20Model/HodgkinHuxley.ipynb\" target=\"_parent\"><img src=\"https://colab.research.google.com/assets/colab-badge.svg\" alt=\"Open In Colab\"/></a>"
      ]
    },
    {
      "cell_type": "markdown",
      "source": [
        "# Hodgkin-Huxley Model\n",
        "\n",
        "Xu Pan, Odelia Schwartz.\n",
        "\n",
        "In this lab, we will look at Hodgkin-Huxley model, numerically solve the diffential equations and do \"patch clamp\" experiments in silico.\n",
        "\n",
        "Note that, since numerical method for DEs is out of our topic, to ease your anxiousness, we use a simple method, Euler's method, to solve the diffential equations. If someone wants a more accurate and efficient way to solve them, they can look into methods such as Runge-Kutta (scipy.solveivp in Python, ode45 in Matlab )."
      ],
      "metadata": {
        "id": "idRFFKpMR_8U"
      }
    },
    {
      "cell_type": "markdown",
      "source": [
        "## Part 1. Passive neuron\n",
        "\n",
        "Let's first explore the V-I relationship in a passive neuron whose channel conductance is constant. This neuron is equivalent to a simple RC circuit.\n",
        "\n",
        "This passive neuron model is the basic component of many firing neuron models, besides Hodgkin-Huxley model, integrate-and-fire model and its variants.\n",
        "\n",
        "\\begin{align*}\n",
        "\\tau_m\\frac{dV}{dt} = -(V-E_L) + \\frac{I}{g_L}\\\n",
        "\\end{align*}\n",
        "\n",
        "\\begin{align*}\n",
        "V(t+1) = V(t)+dV(t)\n",
        "\\end{align*}\n",
        "\n",
        "\\begin{align*}\n",
        "dV(t) = \\frac{dt}{\\tau_m}(-(V(t)-E_L) + \\frac{I}{g_L})\n",
        "\\end{align*}"
      ],
      "metadata": {
        "id": "W8Zc4RksTf2S"
      }
    },
    {
      "cell_type": "code",
      "execution_count": null,
      "metadata": {
        "id": "nXuhxy1lR3V1"
      },
      "outputs": [],
      "source": [
        "import numpy as np\n",
        "import matplotlib.pyplot as plt"
      ]
    },
    {
      "cell_type": "code",
      "source": [
        "#@title\n",
        "tau_m = 23 #@param {type:\"slider\", min:1, max:100, step:1}\n",
        "g_L = 10.0       # mS\n",
        "V_init = -75.0   # mV\n",
        "E_L = -75.0      # mV\n",
        "T = 500          # ms\n",
        "dt = 0.1         # ms\n",
        "I_0 = 200          # nA/mm2\n",
        "\n",
        "t = np.arange(0,T,dt)\n",
        "\n",
        "I = np.zeros(t.shape)\n",
        "I[0:2000] = I_0\n",
        "\n",
        "V = np.zeros(t.shape)\n",
        "V[0] = V_init\n",
        "\n",
        "# solve the diffential equation by Euler's method\n",
        "for i in range(t.shape[0]-1):\n",
        "  dV = dt/tau_m*(-(V[i]-E_L)+I[i]/g_L)\n",
        "  V[i+1] = V[i] + dV\n",
        "\n",
        "plt.plot(t, V)\n",
        "plt.ylabel('Membrane potential (mV)', fontsize=16)\n",
        "plt.xlabel('Time (ms)', fontsize=16)"
      ],
      "metadata": {
        "id": "d872aq4ehlZt"
      },
      "execution_count": null,
      "outputs": []
    },
    {
      "cell_type": "markdown",
      "source": [
        "### Question:\n",
        "\n",
        "How does the time constant (tau_m = R*C) affect the shape of the membrane potential respoding to an input current? Use the slider to try some different values."
      ],
      "metadata": {
        "id": "3XvTWa-jgKNE"
      }
    },
    {
      "cell_type": "markdown",
      "source": [
        "## Part 2. Hodgkin-Huxley model\n",
        "\n",
        "\\begin{align*}\n",
        "C_m\\frac{dV_m}{d_t}=-\\bar{g}_Kn^4(V_m-E_K)-\\bar{g}_{Na}m^3h(V_m-E_{Na})-\\bar{g}_L(V_m-E_L)+I(t)\n",
        "\\end{align*}\n",
        "\n",
        "\\begin{align*}\n",
        "\\frac{dn}{dt}=\\alpha_n(V)(1-n)-\\beta_n(V)n\n",
        "\\end{align*}\n",
        "\n",
        "\\begin{align*}\n",
        "\\frac{dm}{dt}=\\alpha_m(V)(1-m)-\\beta_m(V)m\n",
        "\\end{align*}\n",
        "\n",
        "\\begin{align*}\n",
        "\\frac{dh}{dt}=\\alpha_h(V)(1-h)-\\beta_h(V)h\n",
        "\\end{align*}"
      ],
      "metadata": {
        "id": "l4jm7PZWjgnO"
      }
    },
    {
      "cell_type": "markdown",
      "source": [
        "These parameters are from Computational Neuroscience class by Larry Abbott at Columbia University. https://ctn.zuckermaninstitute.columbia.edu/sites/default/files/content/IntroTheorNeuro20%20Assign3.pdf\n",
        "\n",
        "\\begin{align*}\n",
        "\\alpha_n(V)=\\frac{0.01(V+55)}{1-exp(-0.1(V+55))},\\space\\space\\beta_n(V)=0.125exp(-0.0125(V+65))\n",
        "\\end{align*}\n",
        "\n",
        "\n",
        "\\begin{align*}\n",
        "\\alpha_m(V)=\\frac{0.1(V+40)}{1-exp(-0.1(V+40))},\\space\\space\\beta_m(V)=4exp(-0.0556(V+65))\n",
        "\\end{align*}\n",
        "\n",
        "\n",
        "\\begin{align*}\n",
        "\\alpha_h(V)=0.07exp(-0.05(V+65)),\\space\\space\\beta_h(V)=1/(1+exp(-0.1(V+35))\n",
        "\\end{align*}"
      ],
      "metadata": {
        "id": "agcxv1Eom4TS"
      }
    },
    {
      "cell_type": "code",
      "source": [
        "def alpha_n(V):\n",
        "  return 0.01*(V+55)/(1-np.exp(-0.1*(V+55)))\n",
        "\n",
        "def beta_n(V):\n",
        "  return 0.125*np.exp(-0.0125*(V+65))\n",
        "\n",
        "def alpha_m(V):\n",
        "  return 0.1*(V+40)/(1-np.exp(-0.1*(V+40)))\n",
        "\n",
        "def beta_m(V):\n",
        "  return 4*np.exp(-0.0556*(V+65))\n",
        "\n",
        "def alpha_h(V):\n",
        "  return 0.07*np.exp(-0.05*(V+65))\n",
        "\n",
        "def beta_h(V):\n",
        "  return 1/(1+np.exp(-0.1*(V+35)))"
      ],
      "metadata": {
        "id": "WDdNmO3TgJGC"
      },
      "execution_count": null,
      "outputs": []
    },
    {
      "cell_type": "markdown",
      "source": [
        "We can rearrange the gated-channel differential equation to:\n",
        "\\begin{align*}\n",
        "\\alpha_n(V)(1-n)-\\beta_n(V)n =  (n_\\infty(V)-n)/\\tau_n(V)\n",
        "\\end{align*}\n",
        "n<sub>∞</sub> is the asymptotic (steady state) value of n at voltage V.\n",
        "\n",
        "τ<sub>n</sub> is the time constant.\n",
        "\n",
        "They are:\n",
        "\n",
        "\\begin{align*}\n",
        "n_\\infty(V) = \\frac{\\alpha_n(V)}{\\alpha_n(V)+\\beta_n(V)}\n",
        "\\end{align*}\n",
        "\n",
        "\\begin{align*}\n",
        "\\tau_n(V) = \\frac{1}{\\alpha_n(V)+\\beta_n(V)}\n",
        "\\end{align*}\n",
        "\n",
        "and similar equations for m and h.\n",
        "\n",
        "Now lets plot n<sub>∞</sub> and τ<sub>n</sub> versus V."
      ],
      "metadata": {
        "id": "c5MoAOD3qveb"
      }
    },
    {
      "cell_type": "code",
      "source": [
        "V = np.arange(-100,50,0.1)\n",
        "\n",
        "n_inf = alpha_n(V)/(alpha_n(V)+beta_n(V))\n",
        "m_inf = alpha_m(V)/(alpha_m(V)+beta_m(V))\n",
        "h_inf = alpha_h(V)/(alpha_h(V)+beta_h(V))\n",
        "\n",
        "tau_n = 1/(alpha_n(V)+beta_n(V))\n",
        "tau_m = 1/(alpha_m(V)+beta_m(V))\n",
        "tau_h = 1/(alpha_h(V)+beta_h(V))\n",
        "\n",
        "fig, axs = plt.subplots(1,2, constrained_layout=True,figsize=(10, 4))\n",
        "\n",
        "axs[0].plot(V, n_inf, label='n')\n",
        "axs[0].plot(V, m_inf, label='m')\n",
        "axs[0].plot(V, h_inf, label='h')\n",
        "axs[0].set_ylabel('Steady State', fontsize=16)\n",
        "axs[0].set_xlabel('Voltage (mV)', fontsize=16)\n",
        "\n",
        "axs[1].plot(V, tau_n, label='n')\n",
        "axs[1].plot(V, tau_m, label='m')\n",
        "axs[1].plot(V, tau_h, label='h')\n",
        "axs[1].set_ylabel('Time constant (ms)', fontsize=16)\n",
        "axs[1].set_xlabel('Voltage (mV)', fontsize=16)\n",
        "axs[1].legend(fontsize=16)"
      ],
      "metadata": {
        "id": "aoI85M27dzSt"
      },
      "execution_count": null,
      "outputs": []
    },
    {
      "cell_type": "code",
      "source": [
        "#@title\n",
        "I_0 = 0.09 #@param {type:\"slider\", min:0, max:0.5, step:0.01}\n",
        "# Now we are ready to run Hodgkin-Huxley model\n",
        "\n",
        "T = 200 # ms\n",
        "dt = 0.01 # ms\n",
        "g_L = 0.003 # mS/mm^2 g_L_bar\n",
        "g_K = 0.36 # mS/mm^2 g_K_bar\n",
        "g_Na = 1.2 # mS/mm^2 g_Na_bar\n",
        "E_L = -54.387 # mV\n",
        "E_K = -77 # mV\n",
        "E_Na = 50 # mV\n",
        "c_m = 0.01 # nF/mm^2\n",
        "\n",
        "t = np.arange(0,T,dt)\n",
        "I = np.zeros(t.shape)\n",
        "V_m = np.zeros(t.shape)\n",
        "n = np.zeros(t.shape)\n",
        "m = np.zeros(t.shape)\n",
        "h = np.zeros(t.shape)\n",
        "\n",
        "I[0:int(T/dt/2)] = I_0\n",
        "# initial values\n",
        "V_m[0] = -65 # mV\n",
        "n[0] = 0.3177\n",
        "m[0] = 0.0529\n",
        "h[0] = 0.5961\n",
        "\n",
        "for i in range(t.shape[0]-1):\n",
        "  dV_m = dt/c_m*(-g_K*n[i]**4*(V_m[i]-E_K) - g_Na*m[i]**3*h[i]*(V_m[i]-E_Na) - g_L*(V_m[i]-E_L) + I[i])\n",
        "  dn = dt*(alpha_n(V_m[i])*(1-n[i]) - beta_n(V_m[i])*n[i])\n",
        "  dm = dt*(alpha_m(V_m[i])*(1-m[i]) - beta_m(V_m[i])*m[i])\n",
        "  dh = dt*(alpha_h(V_m[i])*(1-h[i]) - beta_h(V_m[i])*h[i])\n",
        "\n",
        "  V_m[i+1] = V_m[i] + dV_m\n",
        "  n[i+1] = n[i] + dn\n",
        "  m[i+1] = m[i] + dm\n",
        "  h[i+1] = h[i] + dh\n",
        "\n",
        "plt.plot(t, V_m)\n",
        "plt.ylabel('Membrane potential (mV)', fontsize=16)\n",
        "plt.xlabel('Time (ms)', fontsize=16)"
      ],
      "metadata": {
        "id": "c8MjqNNyvjKV"
      },
      "execution_count": null,
      "outputs": []
    },
    {
      "cell_type": "code",
      "source": [
        "# Let's look at what happens in one circle:\n",
        "time_window = 1000 # 10 ms\n",
        "fig, axs = plt.subplots(5, constrained_layout=True,figsize=(4, 10))\n",
        "\n",
        "axs[0].plot(t[0:time_window], V_m[0:time_window])\n",
        "axs[0].set_ylabel('Membrane potential (mV)', fontsize=16)\n",
        "\n",
        "axs[1].plot(t[0:time_window], n[0:time_window])\n",
        "axs[1].set_ylabel('n', fontsize=16)\n",
        "\n",
        "axs[2].plot(t[0:time_window], m[0:time_window])\n",
        "axs[2].set_ylabel('m', fontsize=16)\n",
        "\n",
        "axs[3].plot(t[0:time_window], h[0:time_window])\n",
        "axs[3].set_ylabel('h', fontsize=16)\n",
        "\n",
        "\n",
        "axs[4].plot(t[0:time_window], m[0:time_window]**3*h[0:time_window])\n",
        "axs[4].set_ylabel('m^3*h', fontsize=16)\n",
        "\n",
        "axs[4].set_xlabel('Time (ms)', fontsize=16)"
      ],
      "metadata": {
        "id": "lzmVmjuIGSIA"
      },
      "execution_count": null,
      "outputs": []
    },
    {
      "cell_type": "markdown",
      "source": [
        "Let's give the neuron a negative input during 0-100 ms. Look what happens after the negative input is taken out."
      ],
      "metadata": {
        "id": "EUwOf6ijJbrA"
      }
    },
    {
      "cell_type": "code",
      "source": [
        "I_0 = -0.05\n",
        "# Now we are ready to run Hodgkin-Huxley model\n",
        "\n",
        "T = 200 # ms\n",
        "dt = 0.01 # ms\n",
        "g_L = 0.003 # mS/mm^2 g_L_bar\n",
        "g_K = 0.36 # mS/mm^2 g_K_bar\n",
        "g_Na = 1.2 # mS/mm^2 g_Na_bar\n",
        "E_L = -54.387 # mV\n",
        "E_K = -77 # mV\n",
        "E_Na = 50 # mV\n",
        "c_m = 0.01 # nF/mm^2\n",
        "\n",
        "t = np.arange(0,T,dt)\n",
        "I = np.zeros(t.shape)\n",
        "V_m = np.zeros(t.shape)\n",
        "n = np.zeros(t.shape)\n",
        "m = np.zeros(t.shape)\n",
        "h = np.zeros(t.shape)\n",
        "\n",
        "I[0:int(T/dt/2)] = I_0\n",
        "# initial values\n",
        "V_m[0] = -65 # mV\n",
        "n[0] = 0.3177\n",
        "m[0] = 0.0529\n",
        "h[0] = 0.5961\n",
        "\n",
        "for i in range(t.shape[0]-1):\n",
        "  dV_m = dt/c_m*(-g_K*n[i]**4*(V_m[i]-E_K) - g_Na*m[i]**3*h[i]*(V_m[i]-E_Na) - g_L*(V_m[i]-E_L) + I[i])\n",
        "  dn = dt*(alpha_n(V_m[i])*(1-n[i]) - beta_n(V_m[i])*n[i])\n",
        "  dm = dt*(alpha_m(V_m[i])*(1-m[i]) - beta_m(V_m[i])*m[i])\n",
        "  dh = dt*(alpha_h(V_m[i])*(1-h[i]) - beta_h(V_m[i])*h[i])\n",
        "\n",
        "  V_m[i+1] = V_m[i] + dV_m\n",
        "  n[i+1] = n[i] + dn\n",
        "  m[i+1] = m[i] + dm\n",
        "  h[i+1] = h[i] + dh\n",
        "\n",
        "plt.plot(t, V_m)\n",
        "plt.ylabel('Membrane potential (mV)', fontsize=16)\n",
        "plt.xlabel('Time (ms)', fontsize=16)"
      ],
      "metadata": {
        "id": "ru0r6f3o_ZzS"
      },
      "execution_count": null,
      "outputs": []
    },
    {
      "cell_type": "markdown",
      "source": [
        "## Questions\n",
        "\n",
        "Part 1.\n",
        "\n",
        "**(a)** How does the time constant (tau_m = R*C) affect the shape of the membrane potential responding to an input current? Use the slider to try some different values.\n",
        "\n",
        "Part 2.\n",
        "\n",
        "**(b)** Write a function that can compute the firing rate (# of spikes in a second). Change input current from 0 to 0.5, plot the firing rate versus input current. What do you find? (The behavior you find is called type II behavior. Type I behavior is when firing rate changes continuously with the input.) (If you find it is too hard to compute firing rate, describing what you find qualitatively is ok)\n",
        "\n",
        "**(c)** You should see a spike after the negative input is taken out. This phenomenon is named post-inhibitory rebound. Researchers do find it in real neurons. Plot the n, m and h. Explain why there is a spike."
      ],
      "metadata": {
        "id": "NLgAzBGyJ5EH"
      }
    }
  ]
}