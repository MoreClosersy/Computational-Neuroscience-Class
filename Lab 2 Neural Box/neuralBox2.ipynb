{
  "nbformat": 4,
  "nbformat_minor": 0,
  "metadata": {
    "colab": {
      "name": "neuralBox2.ipynb",
      "provenance": [],
      "collapsed_sections": [
        "BzIZ64se13Zp"
      ],
      "include_colab_link": true
    },
    "kernelspec": {
      "name": "python3",
      "display_name": "Python 3"
    },
    "language_info": {
      "name": "python"
    }
  },
  "cells": [
    {
      "cell_type": "markdown",
      "metadata": {
        "id": "view-in-github",
        "colab_type": "text"
      },
      "source": [
        "<a href=\"https://colab.research.google.com/github/xup5/Computational-Neuroscience-Class/blob/main/Lab%202%20Neural%20Box/neuralBox2.ipynb\" target=\"_parent\"><img src=\"https://colab.research.google.com/assets/colab-badge.svg\" alt=\"Open In Colab\"/></a>"
      ]
    },
    {
      "cell_type": "markdown",
      "source": [
        "#Neural Box 2\n",
        "\n",
        "Odelia Schwartz, Xu Pan, Alexander Claman\n",
        "\n",
        "Partly based on Cold Spring Harbor white noise tutorial by Chichilnisky.\n",
        "This is a tutorial for figuring out the response properties\n",
        "of a neuron by presenting many random stimuli.\n",
        "\n",
        "This tutorial specifically focuses on spike-triggered average,\n",
        "estimating the linear filter, and estimating the nonlinearity.\n",
        "\n",
        "The tutorial mostly includes model neurons (synthetic data) and shows the estimation process. We also examine the spike-triggered average for real neural data from an H1 neuron in the fly. Data is from the Dayan and Abbott book. \n",
        "\n",
        "At the end of the tutorial, there are some questions.\n"
      ],
      "metadata": {
        "id": "dM6w8Ng0vKAt"
      }
    },
    {
      "cell_type": "markdown",
      "source": [
        "## Part 1. Use synthesized data\n",
        "\n",
        "The neuron here is a model simulation, but the same approach is used for understanding real neurons. We probe the model neuron as if it is a black box and we do not know its properties. In part 2, you will use this approach to \n",
        "understand a real neuron."
      ],
      "metadata": {
        "id": "Y0uPhyjlH-Ly"
      }
    },
    {
      "cell_type": "markdown",
      "source": [
        "### Construct stimuli"
      ],
      "metadata": {
        "id": "Qs4Hg9RjzBUG"
      }
    },
    {
      "cell_type": "code",
      "source": [
        "# We want to first choose experimental stimuli that are random\n",
        "# At each frame, the intensity of the uniform screen changes:\n",
        "# it is drawn randomly, here from a Gaussian distribution.\n",
        "\n",
        "import numpy as np\n",
        "\n",
        "numsamples = 25000\n",
        "stimulus = (1/3*np.random.randn(numsamples))"
      ],
      "metadata": {
        "id": "8qMx65KSzGPP"
      },
      "execution_count": null,
      "outputs": []
    },
    {
      "cell_type": "code",
      "source": [
        "# Plot the stimulus\n",
        "\n",
        "import matplotlib.pyplot as plt\n",
        "\n",
        "thelen = min(1000, numsamples)\n",
        "plt.plot(stimulus[0:thelen])\n",
        "\n",
        "plt.xlabel('Time (msec)', fontsize=16)\n",
        "plt.ylabel('Stimulus strength', fontsize=16)\n",
        "plt.title('First 1 second of stimulus', fontsize=16)"
      ],
      "metadata": {
        "id": "lU41n4M2zUrr"
      },
      "execution_count": null,
      "outputs": []
    },
    {
      "cell_type": "code",
      "source": [
        "# Let's check that it is Gaussian\n",
        "\n",
        "plt.hist(stimulus, bins=50, density=True, align='left');\n",
        "plt.xlabel('Stimulus strength', fontsize=16)\n",
        "plt.ylabel('Probability', fontsize=16)"
      ],
      "metadata": {
        "id": "5ntgz8NN07Vs"
      },
      "execution_count": null,
      "outputs": []
    },
    {
      "cell_type": "markdown",
      "source": [
        "### Neuron models\n",
        "\n",
        "This cell has 5 functions getLinear1, getLinear2, getLinear3, getNonlinear1, getNonlinear2. You can think of them as \"neurons\" that take stimulus as input and give response as output. The filter and nonlinearity are hidden, as they would be in a biological experiment.\n",
        "\n",
        "***You don't have to look inside. Just run it.***"
      ],
      "metadata": {
        "id": "BzIZ64se13Zp"
      }
    },
    {
      "cell_type": "code",
      "source": [
        "def getLinear1(stimulus, kernelSize):\n",
        "  # Compute the linear response using a single exponential\n",
        "  # lowpass filter.  You could substitute other linear filters here if you\n",
        "  # wanted to, but this one is pretty simple.\n",
        "  tau = 10 # time constant\n",
        "  linearResp = np.zeros(len(stimulus))\n",
        "  \n",
        "  for i in range(len(stimulus)-1):\n",
        "    # Solve the differential equation\n",
        "    linearResp[i+1] = linearResp[i] + (1/tau)*(stimulus[i]-linearResp[i]) \n",
        "  \n",
        "  # get the impulse response function which is also the \"filter\"\n",
        "  impulse = np.zeros(1000) # make a impulse stimulus\n",
        "  impulse[0] = 1\n",
        "  impulseResp = np.zeros(len(impulse))\n",
        "  for i in range(len(impulse)-1):\n",
        "    # Solve the differential equation\n",
        "    impulseResp[i+1] = impulseResp[i] + (1/tau)*(impulse[i]-impulseResp[i])\n",
        "  impulseResp = impulseResp[0:kernelSize]\n",
        "  filter = np.flipud(impulseResp)\n",
        "\n",
        "  return (linearResp, filter)\n",
        "\n",
        "###############################################################################\n",
        "def getLinear2(stimulus, kernelSize):\n",
        "  # Compute the linear response using a single exponential\n",
        "  # lowpass filter.  You could substitute other linear filters here if you\n",
        "  # wanted to, but this one is pretty simple.\n",
        "  tau = 5 # time constant\n",
        "  linearResp = np.zeros(len(stimulus))\n",
        "  \n",
        "  for i in range(len(stimulus)-1):\n",
        "    # Solve the differential equation\n",
        "    linearResp[i+1] = linearResp[i] + (1/tau)*(stimulus[i]-linearResp[i]) \n",
        "  \n",
        "  # get the impulse response function which is also the \"filter\"\n",
        "  impulse = np.zeros(1000) # make a impulse stimulus\n",
        "  impulse[0] = 1\n",
        "  impulseResp = np.zeros(len(impulse))\n",
        "  for i in range(len(impulse)-1):\n",
        "    # Solve the differential equation\n",
        "    impulseResp[i+1] = impulseResp[i] + (1/tau)*(impulse[i]-impulseResp[i])\n",
        "  impulseResp = impulseResp[0:kernelSize]\n",
        "  filter = np.flipud(impulseResp)\n",
        "\n",
        "  linearResp = -linearResp\n",
        "  filter = -filter\n",
        "\n",
        "  return (linearResp, filter)\n",
        "\n",
        "###############################################################################\n",
        "def getLinear3(stimulus, kernelSize):\n",
        "  # Compute the linear response using a 3-stage cascade of exponential\n",
        "  # lowpass filters.  You could substitute other linear filters here if you\n",
        "  # wanted to, but this one is pretty simple.\n",
        "  tau = 3 # time constant\n",
        "  linearResp = np.zeros((len(stimulus),3))\n",
        "  \n",
        "  for i in range(len(stimulus)-1):\n",
        "    # Solve the differential equation\n",
        "    linearResp[i+1,0] = linearResp[i,0] + (1/tau)*(stimulus[i]-linearResp[i,0])\n",
        "    linearResp[i+1,1] = linearResp[i,1] + (1/tau)*(linearResp[i,0]-linearResp[i,1])\n",
        "    linearResp[i+1,2] = linearResp[i,2] + (1/tau)*(linearResp[i,1]-linearResp[i,2])\n",
        "  \n",
        "  # Getting rid of the first- and second-order filtered signals, we only\n",
        "  # want the third one.\n",
        "  linearResp = linearResp[:,2]\n",
        "  \n",
        "  # get the impulse response function which is also the \"filter\"\n",
        "  impulse = np.zeros(1000) # make a impulse stimulus\n",
        "  impulse[0] = 1\n",
        "  impulseResp = np.zeros((len(stimulus),3))\n",
        "  for i in range(len(impulse)-1):\n",
        "    # Solve the differential equation\n",
        "    impulseResp[i+1,0] = impulseResp[i,0] + (1/tau)*(impulse[i]-impulseResp[i,0])\n",
        "    impulseResp[i+1,1] = impulseResp[i,1] + (1/tau)*(impulseResp[i,0]-impulseResp[i,1])\n",
        "    impulseResp[i+1,2] = impulseResp[i,2] + (1/tau)*(impulseResp[i,1]-impulseResp[i,2])\n",
        "\n",
        "  # Getting rid of the first- and second-order filtered signals, we only\n",
        "  # want the third one.\n",
        "  impulseResp = impulseResp[:,2]\n",
        "\n",
        "  impulseResp = impulseResp[0:kernelSize]\n",
        "  filter = np.flipud(impulseResp)\n",
        "\n",
        "  return (linearResp, filter)\n",
        "\n",
        "###############################################################################\n",
        "def getNonlinear1(linearResp):\n",
        "  nonlinearResp = np.zeros(len(linearResp))\n",
        "  theind = np.where(linearResp>0)\n",
        "  nonlinearResp[theind] = linearResp[theind]**2\n",
        "  return nonlinearResp\n",
        "\n",
        "###############################################################################\n",
        "def getNonlinear2(linearResp):\n",
        "  return linearResp**2"
      ],
      "metadata": {
        "id": "lpnJ3tq718p2"
      },
      "execution_count": null,
      "outputs": []
    },
    {
      "cell_type": "markdown",
      "source": [
        "### Simulate a model neuron"
      ],
      "metadata": {
        "id": "rwv2Nd0J2CUe"
      }
    },
    {
      "cell_type": "code",
      "source": [
        "# We're now going to simulate a model neuron\n",
        "# For purposes of this demo, we are constructing the model\n",
        "# neurons and so know their filters and nonlinearity\n",
        "# (in an experiment with real neurons, we would be handed \n",
        "# the spike trains and would not know this!)\n",
        "\n",
        "# We've made several versions of model neurons.\n",
        "# We have 3 possible linear filters.\n",
        "# Toggle between\n",
        "\n",
        "kernelSize = 60\n",
        "(linearResp, filter) = getLinear1(stimulus, kernelSize)\n",
        "# (linearResp, filter) = getLinear2(stimulus, kernelSize)\n",
        "# (linearResp, filter) = getLinear3(stimulus, kernelSize)"
      ],
      "metadata": {
        "id": "2ZEVMRsU2RjK"
      },
      "execution_count": null,
      "outputs": []
    },
    {
      "cell_type": "code",
      "source": [
        "# Let's look at the filter (which we usually would not know, but here we do\n",
        "# because we made up the model neurons)\n",
        "\n",
        "plt.plot(filter, 'o-');\n",
        "plt.title('Actual model filter', fontsize=16)\n",
        "plt.xlabel('Time (ms)', fontsize=16);"
      ],
      "metadata": {
        "id": "IxhtxgRc2fKc"
      },
      "execution_count": null,
      "outputs": []
    },
    {
      "cell_type": "code",
      "source": [
        "# We also have two versions of nonlinearities for our model neurons.\n",
        "\n",
        "nonlinearResp = getNonlinear1(linearResp)\n",
        "# Toggle between\n",
        "# nonlinearResp = getNonlinear2(linearResp)"
      ],
      "metadata": {
        "id": "m2fNvXjK2mX_"
      },
      "execution_count": null,
      "outputs": []
    },
    {
      "cell_type": "code",
      "source": [
        "# We can use this non-linear response to simulate a \n",
        "# Poisson-ish spike train... as per last class!\n",
        "\n",
        "xr = np.random.rand(len(nonlinearResp))\n",
        "spikeResponse = nonlinearResp > .05*xr\n"
      ],
      "metadata": {
        "id": "EyjXO5tK20cO"
      },
      "execution_count": null,
      "outputs": []
    },
    {
      "cell_type": "code",
      "source": [
        "# So far, we constructed a model neuron and its response to experimental\n",
        "# stimuli. Here's the first second of each step:\n",
        "\n",
        "fig, axs = plt.subplots(3, constrained_layout=True, figsize=(6, 8))\n",
        "axs[0].plot(linearResp[0:1000])\n",
        "axs[0].set_title('Linear response', fontsize=16) \n",
        "axs[1].plot(nonlinearResp[1:1000], color='r')\n",
        "axs[1].set_title('Nonlinear function of linear response', fontsize=16)\n",
        "axs[2].stem(spikeResponse[1:1000], basefmt=\" \")\n",
        "axs[2].set_title('# of Spikes (1 ms bins)', fontsize=16)\n",
        "axs[2].set_xlabel('Time (ms)', fontsize=16)"
      ],
      "metadata": {
        "id": "lcAHP_AW3IjK"
      },
      "execution_count": null,
      "outputs": []
    },
    {
      "cell_type": "markdown",
      "source": [
        "### Estimate linear filter (Spike-triggered average)"
      ],
      "metadata": {
        "id": "HOEQnRnM41MO"
      }
    },
    {
      "cell_type": "code",
      "source": [
        "# Now we compute the spike-triggered average stimulus.  This is accomplished\n",
        "# by taking the 60 milliseconds of stimulus immediately preceding each spike\n",
        "# and adding them together.  This sum is then divided by the total number \n",
        "# of spikes fired over the course of the entire experiment to determine the \n",
        "# average stimulus preceding a spike.\n",
        "# This spike-triggered average is, in a sense, a template for what the neuron\n",
        "# is \"looking for\" in the stimulus.\n",
        "\n",
        "kernelSize = 60\n",
        "totalCount = sum(spikeResponse)\n",
        "\n",
        "sta = np.zeros(kernelSize)\n",
        "\n",
        "for i in range(kernelSize-1,len(spikeResponse)):\n",
        "  if spikeResponse[i] == 1:                     # if there is a spike\n",
        "    sta = sta + stimulus[i-kernelSize+1:i+1]    # add stimulus preceding spike\n",
        "\n",
        "sta = sta/totalCount                    # average of stimuli that led to spike"
      ],
      "metadata": {
        "id": "rpWnNpAZ2980"
      },
      "execution_count": null,
      "outputs": []
    },
    {
      "cell_type": "code",
      "source": [
        "# We'll first look at the answer; then unpack what we did\n",
        "\n",
        "plt.plot(2*np.arange(-kernelSize,0), sta, marker='o')\n",
        "plt.title('Estimated Spike-triggered average', fontsize=16)\n",
        "plt.xlabel('Time (ms)')"
      ],
      "metadata": {
        "id": "cCqsaVPm5sj8"
      },
      "execution_count": null,
      "outputs": []
    },
    {
      "cell_type": "code",
      "source": [
        "# Because this is a tutorial, we *know* exactly what filtering \n",
        "# was done on the stimulus to get the linear response (\"linearResp\"). \n",
        "# Below, we compare the spike-triggered average to the filter we used.\n",
        "# They are similar shape up to a constant multiplication factor\n",
        "\n",
        "\n",
        "plt.plot(2*np.arange(-kernelSize,0), sta/np.sum(sta), marker='o', label='estimated filter')\n",
        "plt.plot(2*np.arange(-kernelSize,0), filter/np.sum(filter), marker='o', label='actual model filter')\n",
        "plt.title('Spike-triggered average', fontsize=16)\n",
        "plt.xlabel('Time (ms)', fontsize=16)\n",
        "plt.legend()"
      ],
      "metadata": {
        "id": "Wk6RMgSw5-8T"
      },
      "execution_count": null,
      "outputs": []
    },
    {
      "cell_type": "code",
      "source": [
        "# Remember we summed together stimuli that led to a spike.\n",
        "# We can look at individual such stimuli and the average \n",
        "# as we have more samples.\n",
        "# Let's visualize this process.\n",
        "\n",
        "from IPython.display import clear_output\n",
        "\n",
        "sta_temp = np.zeros(kernelSize)\n",
        "total_temp = 0\n",
        "time = 2*np.arange(-kernelSize,0)\n",
        "\n",
        "for i in range(kernelSize-1,min(10000, numsamples)): # we plot the first 10s\n",
        "  if spikeResponse[i] == 1:\n",
        "    sta_temp = sta_temp + stimulus[i-kernelSize+1:i+1]\n",
        "    total_temp = total_temp + 1\n",
        "    if total_temp % 50 == 0: # update the plot every 50 spikes\n",
        "      clear_output(wait=True)\n",
        "      fig, axs = plt.subplots(2, constrained_layout=True, figsize=(6, 5))\n",
        "      axs[0].plot(time, stimulus[i-kernelSize+1:i+1])\n",
        "      axs[0].set_title('Stimulus that resulted in spike', fontsize=16)\n",
        "      axs[1].plot(time, sta_temp/total_temp)\n",
        "      axs[1].set_title('Spike-triggered average', fontsize=16)\n",
        "      plt.show()"
      ],
      "metadata": {
        "id": "cUkgBr7G7IP3"
      },
      "execution_count": null,
      "outputs": []
    },
    {
      "cell_type": "code",
      "source": [
        "# Extra intuition\n",
        "# To get intuition about why averaging the spiked stimuli\n",
        "# works, we can look at how the linear response relates to\n",
        "# spikes versus no spikes. This allows us to differentiate \n",
        "# between stimuli that lead to spikes or no spikes.\n",
        "# When the estimated linear response is higher, the model\n",
        "# neuron is more likely to spike...\n",
        "\n",
        "linearEst = np.zeros(len(spikeResponse))\n",
        "\n",
        "for i in range(kernelSize, len(spikeResponse)):\n",
        "  linearEst[i] = np.dot(sta, stimulus[i-kernelSize+1:i+1])\n",
        "\n",
        "plt.scatter(linearEst, spikeResponse, facecolors='none', edgecolors='C0')\n",
        "plt.xlabel('Linear response', fontsize=16)\n",
        "plt.ylabel('Spikes', fontsize=16)\n",
        "plt.title('Relation between estimated linear responses and spikes', fontsize=16)"
      ],
      "metadata": {
        "id": "w6UJa9GG9P2l"
      },
      "execution_count": null,
      "outputs": []
    },
    {
      "cell_type": "markdown",
      "source": [
        "### Estimate nonlinearity (Extra)"
      ],
      "metadata": {
        "id": "gBHioyAwBJMX"
      }
    },
    {
      "cell_type": "code",
      "source": [
        "# We can also actually estimate the nonlinearity.\n",
        "# We can plot the \"average\" number of spikes fired in response to similar \n",
        "# linear responses.\n",
        "\n",
        "# First we decide on linear response bins...\n",
        "\n",
        "plt.hist(linearResp, bins=50)\n",
        "plt.xlabel('Stimulus value', fontsize=16)\n",
        "plt.ylabel('Probability', fontsize=16)"
      ],
      "metadata": {
        "id": "3-e0wkgXBR2W"
      },
      "execution_count": null,
      "outputs": []
    },
    {
      "cell_type": "code",
      "source": [
        "# -.2 to .3 looks like a good range.\n",
        "linear_response_bin = np.arange(-.2,.3,.05)\n",
        "\n",
        "mean_spikes = np.zeros(len(linear_response_bin))\n",
        "sem_spikes = np.zeros(len(linear_response_bin))\n",
        "\n",
        "for i in range(len(linear_response_bin)):\n",
        "  # Find when (indexes) the linear response fall in this bin:\n",
        "  ind_in_bin = np.where(np.logical_and(linearResp>linear_response_bin[i], linearResp<linear_response_bin[i]+0.05))\n",
        "  # Calculate the mean of the spike count over time points whose linear responses are in this bin.\n",
        "  mean_spikes[i] = np.mean(spikeResponse[ind_in_bin])\n",
        "  sem_spikes[i] = np.std(spikeResponse[ind_in_bin], ddof=1) / np.sqrt(len(spikeResponse[ind_in_bin]))\n",
        "\n",
        "plt.errorbar(linear_response_bin+0.025, mean_spikes, yerr=sem_spikes, capsize=3)\n",
        "plt.title('Estimated nonlinear function', fontsize=16)\n",
        "plt.xlabel('Linear response component', fontsize=16)\n",
        "plt.ylabel('Mean spike count', fontsize=16)"
      ],
      "metadata": {
        "id": "x8OHk-0nBtEQ"
      },
      "execution_count": null,
      "outputs": []
    },
    {
      "cell_type": "code",
      "source": [
        "# We can compare this to the nonlinearity that we know because we constructed\n",
        "# the model simulation - but usually would not know.\n",
        "# That is, we can superimpose the non-linear function that we actually used to\n",
        "# determine the spike firing probabilities.  The plot of linear response versus\n",
        "# mean spike count should have the same shape as this function, but, there\n",
        "# is an arbitrary scale factor relating these two quantities.  Below, we estimate\n",
        "# this scale factor using least-squares.\n",
        "\n",
        "xx = getNonlinear1(linear_response_bin)              # this we know\n",
        "gamma = 1/np.dot(xx, xx) * np.dot(xx, mean_spikes)   # find the scale factor (least squares solution)\n",
        "\n",
        "vals = np.arange(-.3,.3,.05)\n",
        "Nth =  getNonlinear1(vals)\n",
        "\n",
        "plt.errorbar(linear_response_bin+0.025, mean_spikes, yerr=sem_spikes, capsize=3)\n",
        "plt.plot(vals, Nth*gamma)\n",
        "plt.title('Estimated nonlinear function', fontsize=16)\n",
        "plt.xlabel('Linear response component', fontsize=16)\n",
        "plt.ylabel('Mean spike count', fontsize=16)"
      ],
      "metadata": {
        "id": "sruwQoPMCYfm"
      },
      "execution_count": null,
      "outputs": []
    },
    {
      "cell_type": "markdown",
      "source": [
        "## Part 2. Use real data\n",
        "\n",
        "The neuron here is an H1 neuron in the fly. Data is from the Dayan and Abbott book. The mat file is available here: http://www.gatsby.ucl.ac.uk/~dayan/book/exercises/c1/data/c1p8.mat\n"
      ],
      "metadata": {
        "id": "1HoS46dVIH-9"
      }
    },
    {
      "cell_type": "markdown",
      "source": [
        "### Prepare data"
      ],
      "metadata": {
        "id": "aN_m4vev1u86"
      }
    },
    {
      "cell_type": "code",
      "execution_count": null,
      "metadata": {
        "id": "vPLebwNFu4Lw"
      },
      "outputs": [],
      "source": [
        "# Download data file\n",
        "\n",
        "!wget http://www.gatsby.ucl.ac.uk/~dayan/book/exercises/c1/data/c1p8.mat"
      ]
    },
    {
      "cell_type": "code",
      "source": [
        "# Use scipy package to load mat (Matlab) files.\n",
        "\n",
        "import scipy.io\n",
        "import numpy as np\n",
        "\n",
        "mat = scipy.io.loadmat('c1p8.mat')\n",
        "rho = mat['rho']\n",
        "stim = mat['stim']\n",
        "\n",
        "print(np.shape(rho))\n",
        "print(np.shape(stim))\n",
        "\n",
        "# The rho and stim in mat file have shape (600000,1).\n",
        "# Since we don't need a second dimension, we use np.squeeze\n",
        "# to get rid of the second dimension.\n",
        "\n",
        "rho = np.squeeze(rho)\n",
        "stim = np.squeeze(stim)\n",
        "print(np.shape(rho))\n",
        "print(np.shape(stim))\n",
        "\n",
        "t = 2 * np.arange(len(rho)) # Sampling interval is 2 ms.\n",
        "print(t[0:50])     # print first 50 time values"
      ],
      "metadata": {
        "id": "1B5k6HW2wiOI"
      },
      "execution_count": null,
      "outputs": []
    },
    {
      "cell_type": "code",
      "source": [
        "# Let's first plot the stimulus and spike response\n",
        "\n",
        "import matplotlib.pyplot as plt\n",
        "\n",
        "fig, axs = plt.subplots(2, constrained_layout=True, figsize=(6, 5))\n",
        "\n",
        "axs[0].plot(t[0:1000],stim[0:1000])\n",
        "axs[0].set_title('Stimulus', fontsize=16)\n",
        "\n",
        "axs[1].stem(t[0:1000],rho[0:1000], basefmt=\" \")\n",
        "axs[1].set_title('Spikes', fontsize=16)\n",
        "axs[1].set_xlabel('Time (ms)', fontsize=16)"
      ],
      "metadata": {
        "id": "IOd788M-xzK9"
      },
      "execution_count": null,
      "outputs": []
    },
    {
      "cell_type": "code",
      "source": [
        "# Check the distribution of the stimulus\n",
        "\n",
        "plt.hist(stim, bins=100, density=True, align='left');\n",
        "plt.xlabel('Stimulus value', fontsize=16)\n",
        "plt.ylabel('Probability', fontsize=16)"
      ],
      "metadata": {
        "id": "WC2pgJ6izhWQ"
      },
      "execution_count": null,
      "outputs": []
    },
    {
      "cell_type": "markdown",
      "source": [
        "### Estimate linear filter (Spike-triggered average)"
      ],
      "metadata": {
        "id": "FSjv5BEk3MoZ"
      }
    },
    {
      "cell_type": "code",
      "source": [
        "# TODO: Write down the code to estimate the fly filter (we'll call it sta again)\n",
        "# See how we did it for the model neurons\n",
        "# use kernelSize = 150\n",
        "# remember that rho tells us the fly spiking response, that is when the fly neuron spiked\n",
        "\n",
        "kernelSize = 150\n",
        "totalCount = sum(rho)\n",
        "\n",
        "#\n",
        "# FILL IN THE REST OF THE CODE\n",
        "#"
      ],
      "metadata": {
        "id": "uW4lMN1Syx_y"
      },
      "execution_count": null,
      "outputs": []
    },
    {
      "cell_type": "code",
      "source": [
        "# Plot the STA.\n",
        "\n",
        "plt.plot(2*np.arange(-kernelSize,0), sta, marker='o')\n",
        "plt.title('Spike-triggered average', fontsize=16)\n",
        "plt.xlabel('Time (ms)', fontsize=16)"
      ],
      "metadata": {
        "id": "EInNCn177ezy"
      },
      "execution_count": null,
      "outputs": []
    },
    {
      "cell_type": "markdown",
      "source": [
        "### Estimate nonlinearity (Extra)"
      ],
      "metadata": {
        "id": "jGV28Nv8Ex39"
      }
    },
    {
      "cell_type": "code",
      "source": [
        "# We can also actually estimate the nonlinearity.\n",
        "# We can plot the \"average\" number of spikes fired in response to similar \n",
        "# linear responses.\n",
        "\n",
        "# First we decide on linear response bins...\n",
        "\n",
        "linear_response = np.convolve(stim, sta, mode='same')\n",
        "\n",
        "plt.hist(linear_response, bins=50)"
      ],
      "metadata": {
        "id": "NAdWJJ-mDDdP"
      },
      "execution_count": null,
      "outputs": []
    },
    {
      "cell_type": "code",
      "source": [
        "# -30000 to 30000 looks like a good range.\n",
        "linear_response_bin = np.arange(-30000,30000,5000)\n",
        "\n",
        "mean_spikes = np.zeros(len(linear_response_bin))\n",
        "sem_spikes = np.zeros(len(linear_response_bin))\n",
        "\n",
        "for i in range(len(linear_response_bin)):\n",
        "  # Find when (indexes) the linear response fall in this bin:\n",
        "  ind_in_bin = np.where(np.logical_and(linear_response>linear_response_bin[i], linear_response<linear_response_bin[i]+5000))\n",
        "  # Calculate the mean of the spike count over time points whose linear responses are in this bin.\n",
        "  mean_spikes[i] = np.mean(rho[ind_in_bin])\n",
        "  sem_spikes[i] = np.std(rho[ind_in_bin], ddof=1) / np.sqrt(len(rho[ind_in_bin]))\n",
        "\n",
        "plt.errorbar(linear_response_bin+2500, mean_spikes, yerr=sem_spikes, capsize=3)\n",
        "plt.title('Estimated nonlinear function', fontsize=16)\n",
        "plt.xlabel('Linear responses', fontsize=16)\n",
        "plt.ylabel('Mean spike count', fontsize=16)"
      ],
      "metadata": {
        "id": "GLqcCw_0THZl"
      },
      "execution_count": null,
      "outputs": []
    },
    {
      "cell_type": "markdown",
      "source": [
        "## Part 3. Questions\n",
        "\n",
        "Synthetic data:\n",
        "\n",
        "1. Try changing the linear function (choosing between getLinear1,\n",
        "getLinear2, getLinear3; see toggle comment). Can we recover each of\n",
        "the linear filters properly?\n",
        "\n",
        "2. Try changing the nonlinear function (choose between \n",
        "getNonlinear1, getNonlinear2.m) and keeping getLinear1. \n",
        "Can we recover the linear filter of the neuron for each \n",
        "of these nonlinearities? If not, then why?\n",
        "\n",
        "3. Keep the original getLinear1 and getNonlinear1 for the model neuron. Try lowering the numsamples in the code above\n",
        "(example, to 200, 700, and 2000)? Plot the \n",
        "filter estimates for these. How good are the filter estimates compared to the actual model filters? Why does the quality of the filter estimate look worse in some of these cases?\n",
        "\n",
        "Real data:\n",
        "\n",
        "4. Plot the linear filter that you found for the fly neuron based on the STA. Explain how it is simiilar to or different from the example model filters we used.\n",
        "\n",
        "\n"
      ],
      "metadata": {
        "id": "tIeOn-1_jQKC"
      }
    }
  ]
}