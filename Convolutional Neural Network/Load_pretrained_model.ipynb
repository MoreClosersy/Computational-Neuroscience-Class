{
  "nbformat": 4,
  "nbformat_minor": 0,
  "metadata": {
    "colab": {
      "provenance": [],
      "gpuType": "T4",
      "authorship_tag": "ABX9TyO4JEHgii3fYNBZ/kXXnU7I",
      "include_colab_link": true
    },
    "kernelspec": {
      "name": "python3",
      "display_name": "Python 3"
    },
    "language_info": {
      "name": "python"
    },
    "accelerator": "GPU"
  },
  "cells": [
    {
      "cell_type": "markdown",
      "metadata": {
        "id": "view-in-github",
        "colab_type": "text"
      },
      "source": [
        "<a href=\"https://colab.research.google.com/github/xup5/Computational-Neuroscience-Class/blob/main/Convolutional%20Neural%20Network/Load_pretrained_model.ipynb\" target=\"_parent\"><img src=\"https://colab.research.google.com/assets/colab-badge.svg\" alt=\"Open In Colab\"/></a>"
      ]
    },
    {
      "cell_type": "markdown",
      "source": [
        "This notebook shows you how to load an pretrained keras model, and how to get intermediate layer activations."
      ],
      "metadata": {
        "id": "3l2OV-9lnSwL"
      }
    },
    {
      "cell_type": "code",
      "source": [
        "!wget https://github.com/schwartz-cnl/Computational-Neuroscience-Class/blob/main/Convolutional%20Neural%20Network/ILSVRC2012_test_00026783.JPEG?raw=true -O ILSVRC2012_test_00026783.JPEG"
      ],
      "metadata": {
        "id": "4P9Gusb7lrEK"
      },
      "execution_count": null,
      "outputs": []
    },
    {
      "cell_type": "code",
      "execution_count": null,
      "metadata": {
        "id": "ZloMO5U1f-Nx"
      },
      "outputs": [],
      "source": [
        "from tensorflow.keras.applications.vgg16 import VGG16\n",
        "from tensorflow.keras.preprocessing import image\n",
        "from tensorflow.keras.applications.vgg16 import preprocess_input\n",
        "from tensorflow import keras\n",
        "import tensorflow as tf\n",
        "import numpy as np\n",
        "\n",
        "# download the pretrained VGG16 model\n",
        "model = VGG16(weights='imagenet', include_top=True)"
      ]
    },
    {
      "cell_type": "code",
      "source": [
        "model.summary()"
      ],
      "metadata": {
        "id": "xHCVLKoVma4Z"
      },
      "execution_count": null,
      "outputs": []
    },
    {
      "cell_type": "code",
      "source": [
        "# Let's test an image!\n",
        "# load image\n",
        "img_path = 'ILSVRC2012_test_00026783.JPEG'\n",
        "# preprocess\n",
        "img = image.load_img(img_path, target_size=(224, 224))\n",
        "x = image.img_to_array(img)\n",
        "x = np.expand_dims(x, axis=0)\n",
        "x = preprocess_input(x)\n",
        "# predict one-hot label\n",
        "y = model.predict(x)"
      ],
      "metadata": {
        "id": "H8pH1fFYmZdh"
      },
      "execution_count": null,
      "outputs": []
    },
    {
      "cell_type": "markdown",
      "source": [
        "## Get intermediate layer activation"
      ],
      "metadata": {
        "id": "Q3f9y2Dbmufi"
      }
    },
    {
      "cell_type": "code",
      "source": [
        "partial_model = keras.Model(inputs=model.input, outputs=model.get_layer('block3_conv3').output)"
      ],
      "metadata": {
        "id": "GQJoKbJFmuFj"
      },
      "execution_count": null,
      "outputs": []
    },
    {
      "cell_type": "code",
      "source": [
        "response = partial_model.predict(x)"
      ],
      "metadata": {
        "id": "ERkWSajAnHpn"
      },
      "execution_count": null,
      "outputs": []
    },
    {
      "cell_type": "code",
      "source": [
        "response.shape"
      ],
      "metadata": {
        "id": "xOFk0ElSnOkK"
      },
      "execution_count": null,
      "outputs": []
    },
    {
      "cell_type": "markdown",
      "source": [
        "## In-silico electrophysiology\n",
        "Let's try to explore some basic properties of the artificial neurons. A good starting point is to find the orientation and spatial period tuning curves."
      ],
      "metadata": {
        "id": "s17HYEPFTSn5"
      }
    },
    {
      "cell_type": "code",
      "source": [
        "# @title A util function to generate stimuli (run this cell)\n",
        "\n",
        "def makeGrating(size, spatialp, ori=0, phase=0, imsize=224, sharpness=3, contrast=1, annular=0, dtype='uint8', shift=0, center=None):\n",
        "    \"\"\"\n",
        "    Make a square grating.\n",
        "    size: the full-width-half-maximum of gaussian mask\n",
        "    which can be thought of as an effective radius.\n",
        "    spatialp: spatial period.\n",
        "    ori: orientation, 0 is horizental. 90 is vertical.\n",
        "    phase: 0-360\n",
        "    imsize: the image size.\n",
        "    annular: inside diameter of the donut.\n",
        "    sharpness: pixels of HMFW of gaussian mask.\n",
        "    contrast: 0-1.\n",
        "    \"\"\"\n",
        "    ori = ori/180*np.pi\n",
        "    im = np.ones((imsize,imsize))\n",
        "    # the last term is to make center phase 0.\n",
        "    phi = (phase/np.pi*180-2*np.pi/spatialp*imsize/2)\n",
        "    for x in range(imsize):\n",
        "        for y in range(imsize):\n",
        "            im[x,y] = np.sin(2*np.pi/spatialp*((x*np.cos(ori)+y*np.sin(ori))+phi))\n",
        "    im = im*contrast\n",
        "    im = (im+1) / 2 * 255\n",
        "    im = np.repeat(im[:,:,np.newaxis],3,axis=2)\n",
        "    im = im.astype(dtype)\n",
        "    return im"
      ],
      "metadata": {
        "id": "gTSO3fefTR-w",
        "cellView": "form"
      },
      "execution_count": null,
      "outputs": []
    },
    {
      "cell_type": "code",
      "source": [
        "# let see some examples of stimuli\n",
        "import matplotlib.pyplot as plt\n",
        "\n",
        "sti1 = makeGrating(size=224, spatialp=20, ori=0)\n",
        "plt.figure()\n",
        "plt.imshow(sti1)\n",
        "\n",
        "sti1 = makeGrating(size=224, spatialp=50, ori=45)\n",
        "plt.figure()\n",
        "plt.imshow(sti1)"
      ],
      "metadata": {
        "id": "bu4V-OyMVf3r"
      },
      "execution_count": null,
      "outputs": []
    },
    {
      "cell_type": "code",
      "source": [
        "# now let's find optimal orientation and spatial period for an artificial neuron.\n",
        "\n",
        "partial_model = keras.Model(inputs=model.input, outputs=model.get_layer('block3_conv3').output)\n",
        "neuron = 5\n",
        "\n",
        "oris = [x for x in range(0,180,15)]\n",
        "periods = [x for x in range(5,35,5)]\n",
        "responses = np.zeros((len(oris),len(periods)))\n",
        "\n",
        "for i,ori in enumerate(oris):\n",
        "  for j,period in enumerate(periods):\n",
        "    # construct the stimuli\n",
        "    sti = makeGrating(size=224, spatialp=period, ori=ori)\n",
        "    sti = np.expand_dims(sti, axis=0)\n",
        "    sti = preprocess_input(sti)\n",
        "    # run the model\n",
        "    responses[i,j] = partial_model.predict(sti, verbose=0)[0,28,28,neuron]\n",
        "\n",
        "# plot the tuning heatmap\n",
        "plt.pcolor(oris, periods, responses.T)\n",
        "plt.colorbar()\n",
        "plt.xlabel(\"orientation\")\n",
        "plt.ylabel(\"spatial period\")"
      ],
      "metadata": {
        "id": "BQA0d7fmXgXK"
      },
      "execution_count": null,
      "outputs": []
    },
    {
      "cell_type": "markdown",
      "source": [
        "## Feature visualization\n",
        "Now let's visualize this neuron's feature."
      ],
      "metadata": {
        "id": "kljD0KbxdMdZ"
      }
    },
    {
      "cell_type": "code",
      "source": [
        "opt = tf.keras.optimizers.Adam(learning_rate=0.01)\n",
        "\n",
        "init_val = np.random.normal(size=(1,224,224,3), scale=0.01).astype(np.float32)\n",
        "im = tf.Variable(init_val)\n",
        "for epoch in range(100):\n",
        "  with tf.GradientTape() as tape:\n",
        "    loss = -tf.reduce_mean(partial_model(im)[0,:,:,neuron])\n",
        "  gradients = tape.gradient(loss, [im])\n",
        "  opt.apply_gradients(zip(gradients, [im]))\n",
        "\n",
        "plt.imshow(im[0,...])"
      ],
      "metadata": {
        "id": "C_a31FVkdUPj"
      },
      "execution_count": null,
      "outputs": []
    },
    {
      "cell_type": "code",
      "source": [
        "# let's try another neuron.\n",
        "\n",
        "partial_model = keras.Model(inputs=model.input, outputs=model.get_layer('block4_conv2').output)\n",
        "neuron = 5\n",
        "\n",
        "opt = tf.keras.optimizers.Adam(learning_rate=0.01)\n",
        "\n",
        "init_val = np.random.normal(size=(1,224,224,3), scale=0.01).astype(np.float32)\n",
        "im = tf.Variable(init_val)\n",
        "for epoch in range(100):\n",
        "  with tf.GradientTape() as tape:\n",
        "    loss = -tf.reduce_mean(partial_model(im)[0,:,:,neuron])\n",
        "  gradients = tape.gradient(loss, [im])\n",
        "  opt.apply_gradients(zip(gradients, [im]))\n",
        "\n",
        "plt.imshow(im[0,...])"
      ],
      "metadata": {
        "id": "2J1E9A3XdkM1"
      },
      "execution_count": null,
      "outputs": []
    },
    {
      "cell_type": "markdown",
      "source": [
        "### Note\n",
        "Above is only a minimal example of visualization. (An immediate but minor problem is we ignored the preprocess.) It often requires several tricks to obtain clear vivid features. An important trick is to use a natural image prior. This is usually done by putting a regulation loss on the Fourier spectrum (natural images are known to have spectrum slop around 1.0).\n",
        "\n",
        "\n",
        "This distill article is a good learning resource: https://distill.pub/2017/feature-visualization/\n",
        "\n",
        "A newer study on more tricks: https://arxiv.org/pdf/2201.12961.pdf"
      ],
      "metadata": {
        "id": "jrKIUervfbtX"
      }
    }
  ]
}