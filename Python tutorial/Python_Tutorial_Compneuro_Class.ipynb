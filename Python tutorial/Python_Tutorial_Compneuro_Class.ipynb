{
  "nbformat": 4,
  "nbformat_minor": 0,
  "metadata": {
    "colab": {
      "name": "Python Tutorial Compneuro Class.ipynb",
      "provenance": [],
      "collapsed_sections": [],
      "include_colab_link": true
    },
    "kernelspec": {
      "name": "python3",
      "display_name": "Python 3"
    },
    "language_info": {
      "name": "python"
    }
  },
  "cells": [
    {
      "cell_type": "markdown",
      "metadata": {
        "id": "view-in-github",
        "colab_type": "text"
      },
      "source": [
        "<a href=\"https://colab.research.google.com/github/schwartz-cnl/Computational-Neuroscience-Class/blob/main/Python%20tutorial/Python_Tutorial_Compneuro_Class.ipynb\" target=\"_parent\"><img src=\"https://colab.research.google.com/assets/colab-badge.svg\" alt=\"Open In Colab\"/></a>"
      ]
    },
    {
      "cell_type": "markdown",
      "source": [
        "# Introduction to Python & Colab Notebook\n",
        "Xu Pan (xupan@miami.edu) and Odelia Schwartz\n"
      ],
      "metadata": {
        "id": "-lXcp06Ginie"
      }
    },
    {
      "cell_type": "code",
      "execution_count": null,
      "metadata": {
        "id": "Y5CNdbpuie6x"
      },
      "outputs": [],
      "source": [
        "# This is a comment, i.e. a line start with a \"#\"."
      ]
    },
    {
      "cell_type": "markdown",
      "source": [
        "## Part 1. Variable"
      ],
      "metadata": {
        "id": "tbkUiW9wksVO"
      }
    },
    {
      "cell_type": "code",
      "source": [
        "# A variable is created when you assign a value to it.\n",
        "# Create a variable \"x\" with value 10\n",
        "\n",
        "x = 10\n",
        "\n",
        "# Use function \"print\" to print the value of a variable\n",
        "\n",
        "print(x)\n",
        "\n",
        "# To run the code inside this cell, click the run (right arrow) button on the \n",
        "# top-left corner of this cell. If you don't see it, move mouse the \"[]\"."
      ],
      "metadata": {
        "id": "IlSVVvfWjdGY"
      },
      "execution_count": null,
      "outputs": []
    },
    {
      "cell_type": "code",
      "source": [
        "# If the last line is not a assignment, the value is printed automatically.\n",
        "x"
      ],
      "metadata": {
        "id": "b4dz6tbUDAaP"
      },
      "execution_count": null,
      "outputs": []
    },
    {
      "cell_type": "code",
      "source": [
        "# A few more examples\n",
        "\n",
        "y = x + 2\n",
        "z = x + y\n",
        "\n",
        "print(y)\n",
        "print(z)"
      ],
      "metadata": {
        "id": "FKVvbkNDmrah"
      },
      "execution_count": null,
      "outputs": []
    },
    {
      "cell_type": "code",
      "source": [
        "# You can assign any type of data to a variable. In the case above, it is an integer.\n",
        "# Let's create a string variable \"y\" now.\n",
        "\n",
        "s = \"computational neuroscience\" # Text inside quotes (both single and double quutes) is a string.\n",
        "\n",
        "print(s)"
      ],
      "metadata": {
        "id": "4g-JWZfAlrxp"
      },
      "execution_count": null,
      "outputs": []
    },
    {
      "cell_type": "code",
      "source": [
        "# Strings can be \"added\"\n",
        "\n",
        "s2 = \"I love \"\n",
        "s3 = s2 + s\n",
        "\n",
        "print(s3)"
      ],
      "metadata": {
        "id": "CQfTF6Ykm9xg"
      },
      "execution_count": null,
      "outputs": []
    },
    {
      "cell_type": "code",
      "source": [
        "# len function can return the length of this string.\n",
        "print(len(s3)) "
      ],
      "metadata": {
        "id": "7Hu_2c1mPAG3"
      },
      "execution_count": null,
      "outputs": []
    },
    {
      "cell_type": "markdown",
      "source": [
        "## Part 2. Data Types"
      ],
      "metadata": {
        "id": "mUArbdoinZQQ"
      }
    },
    {
      "cell_type": "code",
      "source": [
        "# We already see \"integer\" and \"string\" types in the above examples.\n",
        "# To show the data type of a variable, use \"type\" function.\n",
        "\n",
        "print(type(x))\n",
        "print(type(s))"
      ],
      "metadata": {
        "id": "T8DK3pR1ncJ3"
      },
      "execution_count": null,
      "outputs": []
    },
    {
      "cell_type": "markdown",
      "source": [
        "### Number"
      ],
      "metadata": {
        "id": "zMAQa_bNst4Q"
      }
    },
    {
      "cell_type": "code",
      "source": [
        "# Let's look at some built-in types.\n",
        "# (Yes, we can have \"non-built-in\" type by import packages. You will see some later.)\n",
        "# There are two number types, integer and float.\n",
        "\n",
        "a = 10   # an int number\n",
        "b = 10.5 # a float number\n",
        "\n",
        "print(type(a))\n",
        "print(type(b))"
      ],
      "metadata": {
        "id": "dde-RxrAoHNP"
      },
      "execution_count": null,
      "outputs": []
    },
    {
      "cell_type": "code",
      "source": [
        "print(type(a+b)) # Don't worry. Python can automaticaly cast number types."
      ],
      "metadata": {
        "id": "t5rgdnoVpEaJ"
      },
      "execution_count": null,
      "outputs": []
    },
    {
      "cell_type": "markdown",
      "source": [
        "### Boolean"
      ],
      "metadata": {
        "id": "F_KJ2XBysw7y"
      }
    },
    {
      "cell_type": "code",
      "source": [
        "# Boolean type has a value either True or False\n",
        "\n",
        "print(10 > 9)\n",
        "print(10 == 9)\n",
        "print(10 != 9)\n",
        "print(10 < 9)\n",
        "\n",
        "# There are also >=, <="
      ],
      "metadata": {
        "id": "VhgEX88GrO8M"
      },
      "execution_count": null,
      "outputs": []
    },
    {
      "cell_type": "markdown",
      "source": [
        "### List"
      ],
      "metadata": {
        "id": "RIhGMhLOszab"
      }
    },
    {
      "cell_type": "code",
      "source": [
        "# To create a list, items inside \"[]\", seperate items with \",\".\n",
        "\n",
        "l = [10, 20, \"abc\", \"xyz\"] # l is a list\n",
        "\n",
        "print(l)\n"
      ],
      "metadata": {
        "id": "RybXrmw6r-kg"
      },
      "execution_count": null,
      "outputs": []
    },
    {
      "cell_type": "code",
      "source": [
        "# len function can be used to get the number of items of a list.\n",
        "print(len(l))"
      ],
      "metadata": {
        "id": "jNXnmzLWPpsL"
      },
      "execution_count": null,
      "outputs": []
    },
    {
      "cell_type": "code",
      "source": [
        "# Python is a 0-index language. Count start from 0. To access an item using index, see below.\n",
        "\n",
        "print(l[0])\n"
      ],
      "metadata": {
        "id": "7_Uvhbcq3b8G"
      },
      "execution_count": null,
      "outputs": []
    },
    {
      "cell_type": "code",
      "source": [
        "# More examples of accessing an item\n",
        "print(l[1])\n",
        "print(l[2])\n",
        "print(l[3])"
      ],
      "metadata": {
        "id": "diUHIcZbPQuQ"
      },
      "execution_count": null,
      "outputs": []
    },
    {
      "cell_type": "code",
      "source": [
        "# \":\" is a syntax for indexing, which means from...to...\n",
        "# Notice that it includes the first index but not the second\n",
        "\n",
        "print(l[1:3])"
      ],
      "metadata": {
        "id": "W_V9POIF4FeT"
      },
      "execution_count": null,
      "outputs": []
    },
    {
      "cell_type": "code",
      "source": [
        "# You can skip items (from index 0 to 4 in steps of 2)\n",
        "print(l[0:4:2])"
      ],
      "metadata": {
        "id": "6kSdTjcsP4uz"
      },
      "execution_count": null,
      "outputs": []
    },
    {
      "cell_type": "code",
      "source": [
        "# We can change the value of a list\n",
        "\n",
        "l[0]=1.2\n",
        "print(l)"
      ],
      "metadata": {
        "id": "PsRRYYv5uN6e"
      },
      "execution_count": null,
      "outputs": []
    },
    {
      "cell_type": "code",
      "source": [
        "# To add an item at the end of a list, use append function.\n",
        "\n",
        "l.append(30)\n",
        "\n",
        "print(l)"
      ],
      "metadata": {
        "id": "gAWQhQvH4hi7"
      },
      "execution_count": null,
      "outputs": []
    },
    {
      "cell_type": "markdown",
      "source": [
        "### Tuple"
      ],
      "metadata": {
        "id": "3v1QIAWK5FVe"
      }
    },
    {
      "cell_type": "code",
      "source": [
        "# Tuple is very similar to list, but not mutable (i.e., cannot be changed).\n",
        "# Tuple is defined using \"()\"\n",
        "\n",
        "t = (1,2,3) # t is a tuple\n",
        "\n",
        "print(t[1]) # When access using index, use \"[]\"\n",
        "\n",
        "print(len(t))"
      ],
      "metadata": {
        "id": "6gYYld055MbG"
      },
      "execution_count": null,
      "outputs": []
    },
    {
      "cell_type": "code",
      "source": [
        "# We cannot change the value of a tuple; see error when run\n",
        "t[1]=1.2"
      ],
      "metadata": {
        "id": "ZFGqhCXEuudA"
      },
      "execution_count": null,
      "outputs": []
    },
    {
      "cell_type": "markdown",
      "source": [
        "There are also \"dictionary\" and \"set\" types. We rarely use them in this class."
      ],
      "metadata": {
        "id": "zv6Yd3sZ53QW"
      }
    },
    {
      "cell_type": "markdown",
      "source": [
        "## Part 3. Flow Control"
      ],
      "metadata": {
        "id": "9_0D6JVc6kQP"
      }
    },
    {
      "cell_type": "markdown",
      "source": [
        "In many cases, we want a program to run not just line-by-line sequentially, but \n",
        "to have the ability to choose which line to run according to the current state. This can be done with flow control such as \"if\" (conditional satatement) and \"for\" (loop)."
      ],
      "metadata": {
        "id": "KM4umUiN6nYC"
      }
    },
    {
      "cell_type": "markdown",
      "source": [
        "### if else"
      ],
      "metadata": {
        "id": "plYZMOvB7Rhl"
      }
    },
    {
      "cell_type": "code",
      "source": [
        "a = 100\n",
        "b = 200\n",
        "\n",
        "if b > a: # if + boolean + \":\"\n",
        "  print(\"b is greater than a\") # Indent lines in this branch"
      ],
      "metadata": {
        "id": "7y9RhR2E9ijM"
      },
      "execution_count": null,
      "outputs": []
    },
    {
      "cell_type": "code",
      "source": [
        "# An example if you don't indent correctly.\n",
        "if b > a:\n",
        "print(\"b is greater than a\") # Indent lines in this branch"
      ],
      "metadata": {
        "id": "rj6oYogH-bmn"
      },
      "execution_count": null,
      "outputs": []
    },
    {
      "cell_type": "code",
      "source": [
        "a = 200\n",
        "b = 100\n",
        "\n",
        "if b > a:\n",
        "  print(\"b is greater than a\")"
      ],
      "metadata": {
        "id": "lEBS1nvh-Bl_"
      },
      "execution_count": null,
      "outputs": []
    },
    {
      "cell_type": "code",
      "source": [
        "a = 200\n",
        "b = 100\n",
        "\n",
        "if b > a:\n",
        "  print(\"b is greater than a\")\n",
        "else:\n",
        "  print(\"a is greater than b\")"
      ],
      "metadata": {
        "id": "BdwE8w9n-HjA"
      },
      "execution_count": null,
      "outputs": []
    },
    {
      "cell_type": "code",
      "source": [
        "a = 200\n",
        "b = 100\n",
        "\n",
        "if b > a:\n",
        "  print(\"b is greater than a\")\n",
        "elif a == b:\n",
        "  print(\"a and b are equal\")\n",
        "else:\n",
        "  print(\"a is greater than b\")"
      ],
      "metadata": {
        "id": "IrHJiYJB-jbD"
      },
      "execution_count": null,
      "outputs": []
    },
    {
      "cell_type": "markdown",
      "source": [
        "### For loops"
      ],
      "metadata": {
        "id": "2v5nXhte-wqR"
      }
    },
    {
      "cell_type": "code",
      "source": [
        "# Syntax for \"for\" loop is:\n",
        "# for (iterator variable) in (an iterable variable):\n",
        "# (indentation) (lines inside the loop)\n",
        "\n",
        "# List and tuple are iterable. For example:\n",
        "\n",
        "l = [10, 20, 30, 40]\n",
        "\n",
        "for item in l:\n",
        "  print(item + 1)"
      ],
      "metadata": {
        "id": "HWSRKvL7-0ns"
      },
      "execution_count": null,
      "outputs": []
    },
    {
      "cell_type": "code",
      "source": [
        "# range function can create iterations, for instance from 0 up to the number minus one. \n",
        "# It is very useful if you know exactly how many iterations.\n",
        "\n",
        "for i in range(10):\n",
        "  print(i)"
      ],
      "metadata": {
        "id": "sec-VV6p_zkR"
      },
      "execution_count": null,
      "outputs": []
    },
    {
      "cell_type": "code",
      "source": [
        "# \"break\" and \"continue\" can control the loop.\n",
        "# \"break\" is for jumping out of the loop.\n",
        "# \"continue\" is for skipping the current iteration\n",
        "\n",
        "for i in range(5):\n",
        "  if i == 3:\n",
        "    continue\n",
        "  print(i)"
      ],
      "metadata": {
        "id": "6uTG24sGAFqA"
      },
      "execution_count": null,
      "outputs": []
    },
    {
      "cell_type": "code",
      "source": [
        "for i in range(5):\n",
        "  if i == 3:\n",
        "    break\n",
        "  print(i)"
      ],
      "metadata": {
        "id": "mbX9S0tAA5Er"
      },
      "execution_count": null,
      "outputs": []
    },
    {
      "cell_type": "markdown",
      "source": [
        "### While loop"
      ],
      "metadata": {
        "id": "L37TvVSXBAF1"
      }
    },
    {
      "cell_type": "code",
      "source": [
        "i = 1\n",
        "\n",
        "while i < 6:\n",
        "  print(i)\n",
        "  i += 1                # i=i+1"
      ],
      "metadata": {
        "id": "d8p18kdUA-lD"
      },
      "execution_count": null,
      "outputs": []
    },
    {
      "cell_type": "markdown",
      "source": [
        "## Part 4. Functions"
      ],
      "metadata": {
        "id": "JlvhIaE8Bh3V"
      }
    },
    {
      "cell_type": "markdown",
      "source": [
        "Function is a block of code which only runs when it is called. A function can take inputs and return outputs."
      ],
      "metadata": {
        "id": "B25yHvA2Bp9R"
      }
    },
    {
      "cell_type": "code",
      "source": [
        "# use \"def\" to define a function\n",
        "\n",
        "def say_hi(): # define a function\n",
        "  print(\"Hi!\")"
      ],
      "metadata": {
        "id": "MNzo0fD9B7Yx"
      },
      "execution_count": null,
      "outputs": []
    },
    {
      "cell_type": "code",
      "source": [
        "# call it\n",
        "say_hi()"
      ],
      "metadata": {
        "id": "6B3ZvXTMCM3i"
      },
      "execution_count": null,
      "outputs": []
    },
    {
      "cell_type": "code",
      "source": [
        "def plus_double(a, b): # this function takes two inputs/arguments \"a\" and \"b\".\n",
        "  c = a + b\n",
        "  c = 2 * c\n",
        "  return c # it returns 2*(a+b)"
      ],
      "metadata": {
        "id": "JUGVmOULCXI9"
      },
      "execution_count": null,
      "outputs": []
    },
    {
      "cell_type": "code",
      "source": [
        "plus_double(3, 5)"
      ],
      "metadata": {
        "id": "dvx5mSlQDXHe"
      },
      "execution_count": null,
      "outputs": []
    },
    {
      "cell_type": "code",
      "source": [
        "# A function can return multiples outputs.\n",
        "def a_function(a):\n",
        "  return a+2, a*2, a**2"
      ],
      "metadata": {
        "id": "qW8ms2UHDcXS"
      },
      "execution_count": null,
      "outputs": []
    },
    {
      "cell_type": "code",
      "source": [
        "(output_1, output_2, output_3) = a_function(5) # use this syntax to receive multiple ouputs."
      ],
      "metadata": {
        "id": "7EHWBi7VD9Aq"
      },
      "execution_count": null,
      "outputs": []
    },
    {
      "cell_type": "code",
      "source": [
        "print(output_1)\n",
        "print(output_2)\n",
        "print(output_3)"
      ],
      "metadata": {
        "id": "2qpTIEQZEHx3"
      },
      "execution_count": null,
      "outputs": []
    },
    {
      "cell_type": "markdown",
      "source": [
        "## Class and Object"
      ],
      "metadata": {
        "id": "ROLKeckBEsVe"
      }
    },
    {
      "cell_type": "markdown",
      "source": [
        "Python is a object oriented programming language, which means it has classes (built-in and user-defined) and objects..."
      ],
      "metadata": {
        "id": "9JCRCtQqEyDU"
      }
    },
    {
      "cell_type": "markdown",
      "source": [
        "## Part 5. Numpy"
      ],
      "metadata": {
        "id": "Ob828aCbGNGr"
      }
    },
    {
      "cell_type": "code",
      "source": [
        "# The fundamental package for scientific computing with Python (cite from numpy website)\n",
        "# NumPy offers comprehensive mathematical functions, random number generators, linear \n",
        "# algebra routines, Fourier transforms, and more.\n",
        "\n",
        "# use \"import\" to import a package\n",
        "# Fun Fact: try \"import this\"\n",
        "\n",
        "import numpy as np # \"as np\" means we can use \"np\" as an abbreviation of \"numpy\". Like a convention, almost everyone use \"np\"."
      ],
      "metadata": {
        "id": "OICfkmXvqox6"
      },
      "execution_count": null,
      "outputs": []
    },
    {
      "cell_type": "code",
      "source": [
        "# Let's define a numpy array.\n",
        "# We can define a numpy array from built-in type \"list\".\n",
        "\n",
        "a = np.array([1,2,3])\n",
        "print(a)\n",
        "print(type(a))"
      ],
      "metadata": {
        "id": "eSf2WGetHd-4"
      },
      "execution_count": null,
      "outputs": []
    },
    {
      "cell_type": "code",
      "source": [
        "# As with lists, print the first element of a\n",
        "print(a[0])"
      ],
      "metadata": {
        "id": "KOl6Sa3yQqnR"
      },
      "execution_count": null,
      "outputs": []
    },
    {
      "cell_type": "code",
      "source": [
        "# numpy array is like a vector or matrix. Operations on it will act like linear algebra.\n",
        "\n",
        "print(2*a) # if a is type list, what would be the difference."
      ],
      "metadata": {
        "id": "zdBSeR6YH0Pq"
      },
      "execution_count": null,
      "outputs": []
    },
    {
      "cell_type": "code",
      "source": [
        "# Let's define a two-dimensional array\n",
        "\n",
        "b = np.array([[1,2,3],[4,5,6],[7,8,9]])\n",
        "\n",
        "print(b)\n",
        "\n",
        "print(b.shape) # b.shape will return the shape (it is tuple) of this array. "
      ],
      "metadata": {
        "id": "XpyO7NYuIZDb"
      },
      "execution_count": null,
      "outputs": []
    },
    {
      "cell_type": "code",
      "source": [
        "# To access items in a numpy array\n",
        "print(a[1])\n",
        "print(b[1,2])\n",
        "print(b[0:2,1:3])\n",
        "print(b[1,:]) # \":\" means \"all\". Here we access row \"1\" and all columns\n",
        "print(b[:,1]) # Here we access all rows and column \"1\""
      ],
      "metadata": {
        "id": "gyIhmneeIwsy"
      },
      "execution_count": null,
      "outputs": []
    },
    {
      "cell_type": "code",
      "source": [
        "# Numpy has functions to create special arrays\n",
        "\n",
        "print(np.ones((2,2))) # generate a 2x2 all-one array\n",
        "print(np.zeros((3,3))) # generate a 3x3 all-zero array\n",
        "print(np.random.rand(3,2)) # generate a 3x2 array with random numbers range from 0-1"
      ],
      "metadata": {
        "id": "NJVYZsmxJaFQ"
      },
      "execution_count": null,
      "outputs": []
    },
    {
      "cell_type": "markdown",
      "source": [
        "## An example"
      ],
      "metadata": {
        "id": "xpP9xbPqKtHj"
      }
    },
    {
      "cell_type": "markdown",
      "source": [
        "Let's try to plot a sine wave."
      ],
      "metadata": {
        "id": "1JgoLk_sKwCn"
      }
    },
    {
      "cell_type": "code",
      "source": [
        "x = np.arange(0, 10, 0.01) # np.arnage generates a array from 0 to 10 with step size 0.01\n",
        "print(x)"
      ],
      "metadata": {
        "id": "2K2_GHvPKsMr"
      },
      "execution_count": null,
      "outputs": []
    },
    {
      "cell_type": "code",
      "source": [
        "y = np.sin(x)\n",
        "print(y)"
      ],
      "metadata": {
        "id": "f6Jiu_UbLOxX"
      },
      "execution_count": null,
      "outputs": []
    },
    {
      "cell_type": "code",
      "source": [
        "# To generate a figure, we need another package. \"matplotlib.pyplot\" is a common one.\n",
        "import matplotlib.pyplot as plt"
      ],
      "metadata": {
        "id": "JBf8vtKjLVbu"
      },
      "execution_count": null,
      "outputs": []
    },
    {
      "cell_type": "code",
      "source": [
        "plt.plot(x,y)"
      ],
      "metadata": {
        "id": "hC5OwSO_LkK-"
      },
      "execution_count": null,
      "outputs": []
    },
    {
      "cell_type": "code",
      "source": [
        "# Let's include another plot, colors, and legend\n",
        "z = np.cos(x)\n",
        "thesin, = plt.plot(x,y,'m')\n",
        "thecos, = plt.plot(x,z,'c--')\n",
        "plt.legend([thesin,thecos],['sin', 'cos'])\n"
      ],
      "metadata": {
        "id": "vVYsixSkRFT3"
      },
      "execution_count": null,
      "outputs": []
    }
  ]
}
